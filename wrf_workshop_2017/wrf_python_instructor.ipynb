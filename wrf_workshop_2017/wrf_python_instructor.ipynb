{
 "cells": [
  {
   "cell_type": "markdown",
   "metadata": {
    "collapsed": true,
    "slideshow": {
     "slide_type": "slide"
    }
   },
   "source": [
    "# WRF-Python Tutorial 2017\n",
    "\n",
    "## Bill Ladwig\n",
    "## NCAR/CISL/VAST"
   ]
  },
  {
   "cell_type": "markdown",
   "metadata": {
    "slideshow": {
     "slide_type": "subslide"
    }
   },
   "source": [
    "# Topics\n",
    "\n",
    "1. Introduction to jupyter notebooks, numpy, xarray\n",
    "2. Overview of WRF-ARW Output Data\n",
    "3. wrf-python\n",
    "4. Plotting\n",
    "5. Advanced"
   ]
  },
  {
   "cell_type": "markdown",
   "metadata": {
    "collapsed": true,
    "slideshow": {
     "slide_type": "subslide"
    }
   },
   "source": [
    "# 1.0 Introduction to jupyter, numpy, xarray"
   ]
  },
  {
   "cell_type": "markdown",
   "metadata": {
    "collapsed": true,
    "slideshow": {
     "slide_type": "subslide"
    }
   },
   "source": [
    "## What is jupyter notebook?\n",
    "\n",
    "- The Jupyter Notebook is an open-source web application that allows you to create and share documents that contain live code, equations, visualizations and explanatory text. \n",
    "\n",
    "- The Jupyter Notebook actually consists of a document and an application\n",
    "\n",
    "- The Jupyter Notebook application is a web browser application that allows editing and executing of jupyter notebook documents.\n"
   ]
  },
  {
   "cell_type": "markdown",
   "metadata": {
    "collapsed": true,
    "slideshow": {
     "slide_type": "subslide"
    }
   },
   "source": [
    "- Jupyter Notebook documents (usually ending with a .ipynb extension), are really just JSON-formatted text files that contain the code and rich text elements that will be rendered by the jupyter notebook application.  \n",
    "\n",
    "- Jupyter notebook documents are NOT Python scripts, so do not try to run them via the 'python' command.  They need to be converted first.\n",
    "\n",
    "- For this tutorial, when we refer to jupyter notebook, we're referring to both the application and document."
   ]
  },
  {
   "cell_type": "markdown",
   "metadata": {
    "slideshow": {
     "slide_type": "subslide"
    }
   },
   "source": [
    "## Starting jupyter notebook\n",
    "\n",
    "If you followed the installation instructions on the web, you should have created a \"tutorial_2017\" conda environment.  \n",
    "\n",
    "To activate it, first open a terminal and type in:\n",
    "\n",
    "```\n",
    "source activate tutorial_2017\n",
    "```\n",
    "\n",
    "Raise your hand if you need help."
   ]
  },
  {
   "cell_type": "markdown",
   "metadata": {
    "slideshow": {
     "slide_type": "subslide"
    }
   },
   "source": [
    "## Starting jupyter notebook\n",
    "\n",
    "Now go to the directory where you stored the tutorial files (e.g. ~/wrf_python_tutorial) and execute the command \"jupyter notebook\"\n",
    "\n",
    "```\n",
    "\n",
    "cd ~/wrf_python_tutorial\n",
    "\n",
    "jupyter notebook\n",
    "\n",
    "```\n",
    "\n",
    "If for some reason the browser does not launch automatically (Mac Sierra Users), open a web browser and go to:\n",
    "\n",
    "```\n",
    "http://localhost:8888/tree\n",
    "```"
   ]
  },
  {
   "cell_type": "markdown",
   "metadata": {
    "slideshow": {
     "slide_type": "subslide"
    }
   },
   "source": [
    "Your web browser should look similar to this:\n",
    " \n",
    "![alt](images/jupyter_home.png)\n"
   ]
  },
  {
   "cell_type": "markdown",
   "metadata": {
    "slideshow": {
     "slide_type": "subslide"
    }
   },
   "source": [
    "Now click on the \"wrf_python_student.ipynb\" link (just click the text).  \n",
    "\n",
    "This should open a new browser tab that looks like:\n",
    "\n",
    "![alt](images/jupyter_workbook.png)\n"
   ]
  },
  {
   "cell_type": "markdown",
   "metadata": {
    "collapsed": true,
    "slideshow": {
     "slide_type": "subslide"
    }
   },
   "source": [
    "# Cells\n",
    "\n",
    "- A jupyter notebook is a collection of cells, similar to Mathematica.\n",
    "\n",
    "- Cells can be either executable code or text (markdown).\n",
    "\n",
    "- Cells can also be specified as slides, which is how this slide show was made (along with the Rise plugin)"
   ]
  },
  {
   "cell_type": "markdown",
   "metadata": {
    "collapsed": true,
    "slideshow": {
     "slide_type": "subslide"
    }
   },
   "source": [
    "## Executing Cells\n",
    "\n",
    "1. Click on the desired cell.\n",
    "2. Press **CTRL + RETURN** to execute the cell or press **SHIFT + RETURN** to execute the cell and advance to the next cell.\n",
    "3. Alternatively, you can use the Cell dropdown menu"
   ]
  },
  {
   "cell_type": "markdown",
   "metadata": {
    "slideshow": {
     "slide_type": "subslide"
    }
   },
   "source": [
    "## Restarting the Notebook\n",
    "\n",
    "If your notebook crashes for some reason:\n",
    "\n",
    "1. Use the Kernel dropdown menu at the top.\n",
    "2. Execute Kernel -> Restart & Clear Output.\n"
   ]
  },
  {
   "cell_type": "markdown",
   "metadata": {
    "slideshow": {
     "slide_type": "subslide"
    }
   },
   "source": [
    "## Shutting down the notebook\n",
    "\n",
    "1. On your web browser, select the Home tab.\n",
    "2. Click the check box next to wrf_python_student.ipynb.\n",
    "3. Click the Shutdown button that will become available after step 2.\n",
    "4. Now go to the terminal window where you typed in \"jupyter notebook\".\n",
    "5. With the terminal window active, press **CTRL + C**."
   ]
  },
  {
   "cell_type": "markdown",
   "metadata": {
    "slideshow": {
     "slide_type": "subslide"
    }
   },
   "source": [
    "# 1.1 Verifying your Jupyter Environment\n",
    "\n",
    "To set up the tutorial to work with your files, modify the WRF_DIRECTORY and WRF_FILES variables to point to your WRF files.\n",
    "\n",
    "**IMPORTANT**:  If for some reason your workbook crashes, you need to run this cell again before running the later examples."
   ]
  },
  {
   "cell_type": "code",
   "execution_count": null,
   "metadata": {
    "collapsed": true,
    "slideshow": {
     "slide_type": "-"
    }
   },
   "outputs": [],
   "source": [
    "from __future__ import print_function\n",
    "\n",
    "# This jupyter notebook command inserts matplotlib graphics in \n",
    "# to the workbook\n",
    "%matplotlib inline\n",
    "\n",
    "# Modify these to point to your own files\n",
    "WRF_DIRECTORY = \"./\"\n",
    "WRF_FILES = [\"wrfout_d01_2005-08-28_00:00:00\",\n",
    "             \"wrfout_d01_2005-08-28_12:00:00\"]\n",
    "\n",
    "\n",
    "# Do not modify the code below this line\n",
    "#------------------------------------------------------\n",
    "# Make sure the environment is good\n",
    "from netCDF4 import Dataset\n",
    "from xarray import DataArray\n",
    "from wrf import (getvar, interplevel, vertcross, \n",
    "                 vinterp, ALL_TIMES)\n",
    "import os\n",
    "\n",
    "_WRF_FILES = [os.path.abspath(os.path.expanduser(\n",
    "    os.path.join(WRF_DIRECTORY, f))) for f in WRF_FILES]\n",
    "\n",
    "# Check that the WRF files exist\n",
    "for f in _WRF_FILES:\n",
    "    if not os.path.exists(f):\n",
    "        raise ValueError(\"{} does not exist. \"\n",
    "            \"Check for typos or incorrect directory.\".format(full_path))\n",
    "\n",
    "# Create functions so that the WRF files only need\n",
    "# to be specified using the WRF_FILES global above\n",
    "def single_wrf_file():\n",
    "    global _WRF_FILES\n",
    "    return _WRF_FILES[0]\n",
    "\n",
    "def multiple_wrf_files():\n",
    "    global _WRF_FILES\n",
    "    return _WRF_FILES\n",
    "\n",
    "print (\"All tests passed!\")\n",
    "    \n"
   ]
  },
  {
   "cell_type": "code",
   "execution_count": null,
   "metadata": {
    "collapsed": true
   },
   "outputs": [],
   "source": []
  },
  {
   "cell_type": "code",
   "execution_count": null,
   "metadata": {
    "collapsed": true
   },
   "outputs": [],
   "source": []
  },
  {
   "cell_type": "code",
   "execution_count": null,
   "metadata": {
    "collapsed": true
   },
   "outputs": [],
   "source": []
  },
  {
   "cell_type": "code",
   "execution_count": null,
   "metadata": {
    "collapsed": true
   },
   "outputs": [],
   "source": []
  },
  {
   "cell_type": "markdown",
   "metadata": {
    "slideshow": {
     "slide_type": "slide"
    }
   },
   "source": [
    "# 2.0 Overview of WRF Output Data"
   ]
  },
  {
   "cell_type": "markdown",
   "metadata": {
    "slideshow": {
     "slide_type": "subslide"
    }
   },
   "source": [
    "The first rule of data processing:\n",
    "\n",
    "**\"ALWAYS LOOK AT YOUR DATA\"**\n",
    "\n",
    "\\- D. Shea"
   ]
  },
  {
   "cell_type": "markdown",
   "metadata": {
    "slideshow": {
     "slide_type": "subslide"
    }
   },
   "source": [
    "WRF can be configured in various ways and can have variables turned on and off.  If you run in to problems, it could be due to a variable missing.  If your plot doesn't look right, there could be a map projection issue.\n",
    "\n",
    "Let's look at some WRF data...how do we do that?\n",
    "\n",
    "There are numerous tools available to examine NetCDF data, from both outside and inside of Python.\n",
    "\n",
    "- **ncdump** (used for this example)\n",
    "- ncl_filedump\n",
    "- netcdf4-python \n",
    "- xarray\n"
   ]
  },
  {
   "cell_type": "markdown",
   "metadata": {
    "slideshow": {
     "slide_type": "subslide"
    }
   },
   "source": [
    "## ncdump\n",
    "\n",
    "ncdump is a program included with the NetCDF libraries that can be used to examine NetCDF data.\n",
    "\n",
    "By supplying the '-h' option, only the data descriptions are returned.  Otherwise, you'll get all of the data values, which can span miles.\n",
    "\n",
    "To run:\n",
    "\n",
    "```\n",
    "$ ncdump -h wrfout_d01_2005-08-28_00:00:00\n",
    "```"
   ]
  },
  {
   "cell_type": "markdown",
   "metadata": {
    "slideshow": {
     "slide_type": "subslide"
    }
   },
   "source": [
    "<div id=\"nc_dims\" style=\"font-size:75%;\"/>\n",
    "``` \n",
    "netcdf wrfout_d01_2005-08-28_00\\:00\\:00 {\n",
    "dimensions:\n",
    "    Time = UNLIMITED ; // (4 currently)\n",
    "    \n",
    "    DateStrLen = 19 ;\n",
    "    \n",
    "    west_east = 90 ;\n",
    "    \n",
    "    south_north = 73 ;\n",
    "    \n",
    "    bottom_top = 29 ;\n",
    "    \n",
    "    bottom_top_stag = 30 ;\n",
    "    \n",
    "    soil_layers_stag = 4 ;\n",
    "    \n",
    "    west_east_stag = 91 ;\n",
    "    \n",
    "    south_north_stag = 74 ;\n",
    "    \n",
    "```\n",
    "</div>\n",
    "\n"
   ]
  },
  {
   "cell_type": "markdown",
   "metadata": {
    "collapsed": true,
    "slideshow": {
     "slide_type": "subslide"
    }
   },
   "source": [
    "<div id=\"nc_vars\" style=\"font-size:75%;\">\n",
    "```\n",
    "variables:\n",
    "    char Times(Time, DateStrLen) ;\n",
    "    float XLAT(Time, south_north, west_east) ;\n",
    "        XLAT:FieldType = 104 ;\n",
    "        XLAT:MemoryOrder = \"XY \" ;\n",
    "        XLAT:description = \"LATITUDE, SOUTH IS NEGATIVE\" ;\n",
    "        XLAT:units = \"degree_north\" ;\n",
    "        XLAT:stagger = \"\" ;\n",
    "        XLAT:coordinates = \"XLONG XLAT\" ;\n",
    "    float XLONG(Time, south_north, west_east) ;\n",
    "        XLONG:FieldType = 104 ;\n",
    "        XLONG:MemoryOrder = \"XY \" ;\n",
    "        XLONG:description = \"LONGITUDE, WEST IS NEGATIVE\" ;\n",
    "        XLONG:units = \"degree_east\" ;\n",
    "        XLONG:stagger = \"\" ;\n",
    "        XLONG:coordinates = \"XLONG XLAT\" ;\n",
    "        .\n",
    "        .\n",
    "        .\n",
    "    float SST_INPUT(Time, south_north, west_east) ;\n",
    "        SST_INPUT:FieldType = 104 ;\n",
    "        SST_INPUT:MemoryOrder = \"XY \" ;\n",
    "        SST_INPUT:description = \"SEA SURFACE TEMPERATURE \n",
    "            FROM WRFLOWINPUT FILE\" ;\n",
    "        SST_INPUT:units = \"K\" ;\n",
    "        SST_INPUT:stagger = \"\" ;\n",
    "        SST_INPUT:coordinates = \"XLONG XLAT XTIME\" ;\n",
    "```\n",
    "</div>"
   ]
  },
  {
   "cell_type": "markdown",
   "metadata": {
    "slideshow": {
     "slide_type": "subslide"
    }
   },
   "source": [
    "<div id=\"nc_attrs\" style=\"font-size:75%;\">\n",
    "```\n",
    "// global attributes:\n",
    "        :TITLE = \" OUTPUT FROM WRF V3.7 MODEL\" ;\n",
    "        :START_DATE = \"2005-08-28_00:00:00\" ;\n",
    "        :SIMULATION_START_DATE = \"2005-08-28_00:00:00\" ;\n",
    "        :WEST-EAST_GRID_DIMENSION = 91 ;\n",
    "        :SOUTH-NORTH_GRID_DIMENSION = 74 ;\n",
    "        :BOTTOM-TOP_GRID_DIMENSION = 30 ;\n",
    "        :DX = 30000.f ;\n",
    "        :DY = 30000.f ;\n",
    "        .\n",
    "        .\n",
    "        .\n",
    "        :CEN_LAT = 28.00002f ;\n",
    "        :CEN_LON = -89.f ;\n",
    "        :TRUELAT1 = 30.f ;\n",
    "        :TRUELAT2 = 60.f ;\n",
    "        :MOAD_CEN_LAT = 28.00002f ;\n",
    "        :STAND_LON = -89.f ;\n",
    "        :POLE_LAT = 90.f ;\n",
    "        :POLE_LON = 0.f ;\n",
    "        :GMT = 0.f ;\n",
    "        :JULYR = 2005 ;\n",
    "        :JULDAY = 240 ;\n",
    "        :MAP_PROJ = 1 ;\n",
    "        :MAP_PROJ_CHAR = \"Lambert Conformal\" ;\n",
    "        .\n",
    "        .\n",
    "        .\n",
    "}\n",
    "```\n",
    "</div>"
   ]
  },
  {
   "cell_type": "markdown",
   "metadata": {
    "collapsed": true,
    "slideshow": {
     "slide_type": "subslide"
    }
   },
   "source": [
    "## Dimensions\n",
    "\n",
    "WRF uses an Arakawa C-grid staggered grid [(taken from mmm website)] [1]\n",
    "\n",
    "- Mass related quantities (pressure, temperature, etc) are computed at the center of a grid cell. \n",
    "- The u-component of the horizontal wind is calculated at the left and right edges of a grid cell.  It has one more \n",
    "  point in the x direction than the mass grid.\n",
    "- The v-component of the horizontal wind is calculated at the bottom and top edges of a grid cell.  It has one more     point in the y direction than the mass grid. \n",
    "- The corners of each grid box are know as the 'staggered' grid, and has one additional point in both the x and y direction.\n",
    "\n",
    "[1]: http://www2.mmm.ucar.edu/rt/amps/information/configuration/wrf_grid_structure.html"
   ]
  },
  {
   "cell_type": "markdown",
   "metadata": {
    "slideshow": {
     "slide_type": "subslide"
    }
   },
   "source": [
    "![alt](images/wrf_stagger.png)"
   ]
  },
  {
   "cell_type": "markdown",
   "metadata": {
    "slideshow": {
     "slide_type": "subslide"
    }
   },
   "source": [
    "<div id=\"nc_dims\" style=\"font-size:75%;\"/>\n",
    "``` \n",
    "netcdf wrfout_d01_2005-08-28_00\\:00\\:00 {\n",
    "dimensions:\n",
    "    Time = UNLIMITED ; // (4 currently)\n",
    "    \n",
    "    DateStrLen = 19 ;\n",
    "    \n",
    "    west_east = 90 ;\n",
    "    \n",
    "    south_north = 73 ;\n",
    "    \n",
    "    bottom_top = 29 ;\n",
    "    \n",
    "    bottom_top_stag = 30 ; <-- Extra grid point\n",
    "    \n",
    "    soil_layers_stag = 4 ;\n",
    "    \n",
    "    west_east_stag = 91 ; <-- Extra grid point\n",
    "    \n",
    "    south_north_stag = 74 ; <-- Extra grid point\n",
    "    \n",
    "```\n",
    "</div>"
   ]
  },
  {
   "cell_type": "markdown",
   "metadata": {
    "slideshow": {
     "slide_type": "subslide"
    }
   },
   "source": [
    "## Variables\n",
    "\n",
    "- Each variable is made up of dimensions, attributes, and data values. \n",
    "- Pay special attention to the units and coordinates attribute.\n",
    "  - The *coordinates* attribute specifies the variables that contain the latitude and longitude \n",
    "    information for each grid box (XLONG, XLAT).\n",
    "  - If the domain is from a moving nest, then a time coordinate is also used (XTIME).\n",
    "  - The coordinates are named in Fortran ordering, so they'll be listed in reverse.\n",
    "\n",
    "\n"
   ]
  },
  {
   "cell_type": "markdown",
   "metadata": {
    "slideshow": {
     "slide_type": "subslide"
    }
   },
   "source": [
    "<div id=\"var_example\" style=\"font-size:75%;\"/>\n",
    "```\n",
    "float P(Time, bottom_top, south_north, west_east) ; <- Dims\n",
    "\tP:FieldType = 104 ;                       <-  Attribute\n",
    "\tP:MemoryOrder = \"XYZ\" ;                   <-  Attribute\n",
    "    P:description = \"perturbation pressure\" ; <-  Attribute\n",
    "\tP:units = \"Pa\" ;                          <-  Attribute\n",
    "    P:stagger = \"\" ;                          <-  Attribute\n",
    "\tP:coordinates = \"XLONG XLAT XTIME\" ;      <-  Attribute\n",
    "    \n",
    "data:\n",
    "\n",
    " P =\n",
    "  339.8281, 340.3281, 340.25, 341.4531, ... \n",
    "    355.8672, 356.9531, 361.2578, 365.7188,  ...\n",
    "\n",
    "```\n",
    "</div>"
   ]
  },
  {
   "cell_type": "markdown",
   "metadata": {
    "slideshow": {
     "slide_type": "subslide"
    }
   },
   "source": [
    "## Global Attributes\n",
    "\n",
    "- Provide a description of how the model was set up (resolution, map projection, microphysics, etc)\n",
    "- For plotting, the map projection parameters will be the most important.\n",
    "- wrf-python uses this information to build the mapping object in your plotting system of choice - basemap, cartopy, pyngl.\n",
    "\n",
    "\n"
   ]
  },
  {
   "cell_type": "markdown",
   "metadata": {
    "slideshow": {
     "slide_type": "subslide"
    }
   },
   "source": [
    "<div id=\"proj_stuff\" style=\"font-size:75%;\"/>\n",
    "```\n",
    ".\n",
    ".\n",
    ".\n",
    ":CEN_LAT = 28.00002f ;\n",
    ":CEN_LON = -89.f ;\n",
    ":TRUELAT1 = 30.f ;\n",
    ":TRUELAT2 = 60.f ;\n",
    ":MOAD_CEN_LAT = 28.00002f ;\n",
    ":STAND_LON = -89.f ;\n",
    ":POLE_LAT = 90.f ;\n",
    ":POLE_LON = 0.f ;\n",
    ".\n",
    ".\n",
    ":MAP_PROJ = 1 ;\n",
    ":MAP_PROJ_CHAR = \"Lambert Conformal\" ;\n",
    ".\n",
    ".\n",
    ".\n",
    "```\n",
    "</div>"
   ]
  },
  {
   "cell_type": "markdown",
   "metadata": {
    "slideshow": {
     "slide_type": "subslide"
    }
   },
   "source": [
    "## Your Turn!\n",
    "\n",
    "### Example 2.1: Running ncdump"
   ]
  },
  {
   "cell_type": "code",
   "execution_count": null,
   "metadata": {
    "collapsed": true,
    "scrolled": true
   },
   "outputs": [],
   "source": [
    "from subprocess import Popen, PIPE, STDOUT\n",
    "\n",
    "file_path = single_wrf_file()\n",
    "\n",
    "# This simply executes 'ncdump -h {wrf_file}' \n",
    "# from Python\n",
    "p = Popen([\"ncdump\", \"-h\", \"{}\".format(file_path)], \n",
    "          stdout=PIPE, stderr=STDOUT)\n",
    "output, _ = p.communicate()\n",
    "\n",
    "print (output)\n"
   ]
  },
  {
   "cell_type": "markdown",
   "metadata": {
    "slideshow": {
     "slide_type": "subslide"
    }
   },
   "source": [
    "## Reading a WRF File in Python\n",
    "\n",
    "You have several options to read a WRF NetCDF file in Python. \n",
    "\n",
    "- **netcdf4-python**\n",
    "- PyNIO (currently Python 2.x only)\n",
    "- xarray (Dataset not natively supported yet in wrf-python)\n"
   ]
  },
  {
   "cell_type": "markdown",
   "metadata": {
    "slideshow": {
     "slide_type": "subslide"
    }
   },
   "source": [
    "## netcdf4-python Example\n",
    "\n",
    "``` python\n",
    "from netCDF4 import Dataset\n",
    "\n",
    "file_path = \"./wrfout_d01_2005-08-28_00:00:00\"\n",
    "\n",
    "wrf_file = Dataset(file_path)\n",
    "\n",
    "```"
   ]
  },
  {
   "cell_type": "markdown",
   "metadata": {
    "slideshow": {
     "slide_type": "subslide"
    }
   },
   "source": [
    "## Your Turn!\n",
    "\n",
    "### Example 2.2: Using netcdf4-python"
   ]
  },
  {
   "cell_type": "code",
   "execution_count": null,
   "metadata": {
    "collapsed": true
   },
   "outputs": [],
   "source": [
    "from netCDF4 import Dataset\n",
    "\n",
    "file_path = single_wrf_file()\n",
    "\n",
    "wrf_file = Dataset(file_path)\n",
    "\n",
    "print(wrf_file)\n"
   ]
  },
  {
   "cell_type": "markdown",
   "metadata": {
    "slideshow": {
     "slide_type": "subslide"
    }
   },
   "source": [
    "## Getting Variables and Attributes\n",
    "\n",
    "netcdf4-python uses an old API that was originally created for a package called Scientific.IO.NetCDF.\n",
    "\n",
    "This is now in scipy.\n",
    "\n",
    "PyNIO also uses this API.\n",
    "\n",
    "xarray does not use this API.\n",
    "\n",
    "Some of it may look a little dated.\n",
    "\n",
    "\n"
   ]
  },
  {
   "cell_type": "markdown",
   "metadata": {
    "slideshow": {
     "slide_type": "subslide"
    }
   },
   "source": [
    "### Getting global attributes\n",
    "\n",
    "The get the full dictionary of global attributes, use the \\_\\_dict\\_\\_ attribute.  To work with one attribute at a time, you can use the getncattr and setncattr methods. \n",
    "\n",
    "``` python\n",
    "global_attrs = wrf_file.__dict__\n",
    "\n",
    "# To get the value for MAP_PROJ, you can do:\n",
    "map_proj = wrf_file.__dict__[\"MAP_PROJ\"]\n",
    "\n",
    "# Or more cleanly\n",
    "map_prof = wrf_file.getncattr(\"MAP_PROJ\")\n",
    "\n",
    "```"
   ]
  },
  {
   "cell_type": "markdown",
   "metadata": {
    "slideshow": {
     "slide_type": "subslide"
    }
   },
   "source": [
    "### Getting variables, variable attributes, and variable data\n",
    "\n",
    "All variables are stored in a dictionary attribute called *variables*.  \n",
    "\n",
    "Let's get the perturbation pressure (\"P\") variable.\n",
    "\n",
    "``` python\n",
    "\n",
    "# This will return a netCDF4.Variable object\n",
    "p = wrf_file.variables[\"P\"]\n",
    "\n",
    "```"
   ]
  },
  {
   "cell_type": "markdown",
   "metadata": {
    "slideshow": {
     "slide_type": "subslide"
    }
   },
   "source": [
    "To get the variable attributes, you can use the \\_\\_dict\\_\\_ attribute to get a dictionary of all attributes, or the *getncattr* function if you already know the attribute name.\n",
    "\n",
    "``` python\n",
    "# Return a dictionary of all of P's \n",
    "# attributes\n",
    "p_attrs = p.__dict__\n",
    "\n",
    "# Let's just get the 'coordinates' attribute\n",
    "p_coords = p.getncattr(\"coordinates\")\n",
    "\n",
    "```"
   ]
  },
  {
   "cell_type": "markdown",
   "metadata": {
    "slideshow": {
     "slide_type": "subslide"
    }
   },
   "source": [
    "To get the variable's data as a numpy array, you need to use Python's [ ] API (\\_\\_getitem\\_\\_ for those that are more familiar with Python's data model).  \n",
    "\n",
    "``` python\n",
    "\n",
    "# Get a numpy array for all times\n",
    "p_all_data = p[:,:,:,:]\n",
    "\n",
    "# In numpy, there is implicit expansion of ':'\n",
    "# across all dimensions. So, this is the \n",
    "# same as p[:,:,:,:]\n",
    "p_all_data = p[:]\n",
    "\n",
    "# You can also request specific values \n",
    "# by supplying indexes.  This will \n",
    "# extract the numpy array for time \n",
    "# index 0.\n",
    "\n",
    "p_t0_data = p[0,:]\n",
    "\n",
    "\n",
    "```"
   ]
  },
  {
   "cell_type": "markdown",
   "metadata": {
    "slideshow": {
     "slide_type": "subslide"
    }
   },
   "source": [
    "## Your Turn!\n",
    "\n",
    "### Example 2.3: Variables, Attributes, and Data with netcd4-python"
   ]
  },
  {
   "cell_type": "code",
   "execution_count": null,
   "metadata": {
    "collapsed": true
   },
   "outputs": [],
   "source": [
    "from netCDF4 import Dataset\n",
    "\n",
    "file_path = single_wrf_file()\n",
    "\n",
    "# Create the netCDF4.Dataset object\n",
    "wrf_file = Dataset(file_path)\n",
    "\n",
    "# Get the global attribute dict\n",
    "global_attrs = wrf_file.__dict__\n",
    "print (\"Global attributes for the file\")\n",
    "print(global_attrs)\n",
    "print (\"\\n\")\n",
    "\n",
    "# Just get the 'MAP_PROJ' attribute\n",
    "map_proj = wrf_file.getncattr(\"MAP_PROJ\")\n",
    "print (\"The MAP_PROJ attribute:\")\n",
    "print (map_proj)\n",
    "print(\"\\n\")\n",
    "\n",
    "# Get the perturbation pressure variable\n",
    "p = wrf_file.variables[\"P\"]\n",
    "print (\"The P variable: \")\n",
    "print(p)\n",
    "print (\"\\n\")\n",
    "\n",
    "# Get the P attributes\n",
    "p_attrs = p.__dict__\n",
    "print (\"The attribute dict for P\")\n",
    "print (p_attrs)\n",
    "print (\"\\n\")\n",
    "\n",
    "# Get the 'coordinates' attribute for P\n",
    "coords = p.getncattr(\"coordinates\")\n",
    "print (\"Coordinates for P:\")\n",
    "print (coords)\n",
    "print (\"\\n\")\n",
    "\n",
    "# Get the P numpy array for all times\n",
    "p_all_data = p[:]\n",
    "print (\"The P numpy array: \")\n",
    "print (p_all_data)\n",
    "print (\"\\n\")\n",
    "\n",
    "# Get the P numpy array for time 0\n",
    "p_t0_data = p[0,:]\n",
    "print (\"P array at time 0:\")\n",
    "print (p_t0_data)\n",
    "print (\"\\n\")"
   ]
  },
  {
   "cell_type": "markdown",
   "metadata": {
    "slideshow": {
     "slide_type": "subslide"
    }
   },
   "source": [
    "## Pop Quiz\n",
    "\n",
    "What is the first rule of data processing?\n",
    "\n",
    "    A) YOU DO NOT TALK ABOUT DATA PROCESSING\n",
    "    B) 60% OF THE TIME, IT WORKS EVERY TIME\n",
    "    C) ALWAYS LOOK AT YOUR DATA"
   ]
  },
  {
   "cell_type": "markdown",
   "metadata": {
    "slideshow": {
     "slide_type": "slide"
    }
   },
   "source": [
    "# 3.0 wrf-python"
   ]
  },
  {
   "cell_type": "markdown",
   "metadata": {
    "slideshow": {
     "slide_type": "subslide"
    }
   },
   "source": [
    "wrf-python provides functionality similar to what is found in the NCL-WRF package:\n",
    "\n",
    "- over 30 diagnostics calculations\n",
    "- several interpolation routines (horizontal level, vertical cross section, horizontal \"surface\")\n",
    "- plot helper utilities for cartopy, basemap, and PyNGL\n"
   ]
  },
  {
   "cell_type": "markdown",
   "metadata": {
    "slideshow": {
     "slide_type": "subslide"
    }
   },
   "source": [
    "The most commonly used functions:\n",
    "\n",
    "- **getvar**: Extracts variables and diagnostic variables\n",
    "- **interplevel**: Interpolates a variable to a horizontal plane at a specified level\n",
    "- **vertcross**: Interpolates a 3D variable to a vertical cross section\n",
    "- **vinterp**: Interpolates a variable to a new surface (e.g. theta-e)"
   ]
  },
  {
   "cell_type": "markdown",
   "metadata": {
    "slideshow": {
     "slide_type": "subslide"
    }
   },
   "source": [
    "## The *getvar* function\n",
    "\n",
    "The *getvar* function can be used to:\n",
    "\n",
    "- Extract NetCDF variables from a file, similar to netcdf4-python or PyNIO.\n",
    "- Compute diagnostic variables.\n",
    "- Concatenate a variable (either NetCDF or diagnostic) across multiple files. \n",
    "\n"
   ]
  },
  {
   "cell_type": "markdown",
   "metadata": {
    "slideshow": {
     "slide_type": "subslide"
    }
   },
   "source": [
    "### Simple *getvar* Example for HGT\n",
    "\n",
    "``` python\n",
    "\n",
    "from netCDF4 import Dataset\n",
    "from wrf import getvar\n",
    "\n",
    "file_path = \"./wrfout_d01_2005-08-28_00:00:00\"\n",
    "\n",
    "wrf_file = Dataset(file_path)\n",
    "\n",
    "hgt = getvar(wrf_file, \"HGT\", timeidx=0)\n",
    "\n",
    "```"
   ]
  },
  {
   "cell_type": "markdown",
   "metadata": {
    "slideshow": {
     "slide_type": "subslide"
    }
   },
   "source": [
    "## Your Turn!\n",
    "\n",
    "### Example 3.1: Using *getvar* to Extract a WRF NetCDF Variable"
   ]
  },
  {
   "cell_type": "code",
   "execution_count": null,
   "metadata": {
    "collapsed": true
   },
   "outputs": [],
   "source": [
    "from netCDF4 import Dataset\n",
    "from wrf import getvar\n",
    "\n",
    "file_path = single_wrf_file()\n",
    "\n",
    "wrf_file = Dataset(file_path)\n",
    "\n",
    "hgt = getvar(wrf_file, \"HGT\", timeidx=0)\n",
    "\n",
    "print(hgt)"
   ]
  },
  {
   "cell_type": "markdown",
   "metadata": {
    "slideshow": {
     "slide_type": "subslide"
    }
   },
   "source": [
    "## Computing a Diagnostic Variable with *getvar*\n",
    "\n",
    "A list of available diagnostics is available at: http://wrf-python.readthedocs.io/en/latest/diagnostics.html"
   ]
  },
  {
   "cell_type": "markdown",
   "metadata": {},
   "source": [
    "In this example, we're going to compute sea level pressure.  \n",
    "\n",
    "Note the 'units' keyword argument.  Some diagnostics support several choices for units.  However, unit support is still relatively primitive.  \n",
    "\n",
    "``` python\n",
    "\n",
    "from netCDF4 import Dataset\n",
    "from wrf import getvar\n",
    "\n",
    "file_path = \"./wrfout_d01_2005-08-28_00:00:00\"\n",
    "\n",
    "wrf_file = Dataset(file_path)\n",
    "\n",
    "slp = getvar(wrf_file, \"slp\", \n",
    "             timeidx=0, units=\"hPa\")\n",
    "\n",
    "\n",
    "```"
   ]
  },
  {
   "cell_type": "markdown",
   "metadata": {
    "slideshow": {
     "slide_type": "subslide"
    }
   },
   "source": [
    "## Your Turn!\n",
    "\n",
    "### Example 3.2: Using *getvar* to compte Sea Level Pressure (SLP)\n",
    "\n",
    "Also try changing the units for by specifiying the following values:  'hPa', 'Pa', 'atm', 'mmhg'"
   ]
  },
  {
   "cell_type": "code",
   "execution_count": null,
   "metadata": {
    "collapsed": true
   },
   "outputs": [],
   "source": [
    "from netCDF4 import Dataset\n",
    "from wrf import getvar\n",
    "\n",
    "file_path = single_wrf_file()\n",
    "\n",
    "wrf_file = Dataset(file_path)\n",
    "\n",
    "slp = getvar(wrf_file, \"slp\", timeidx=0, units=\"mmhg\")\n",
    "\n",
    "print (slp)"
   ]
  },
  {
   "cell_type": "markdown",
   "metadata": {
    "slideshow": {
     "slide_type": "subslide"
    }
   },
   "source": [
    "## Combining Across Mulitple Files\n",
    "\n",
    "wrf-python has two methods for combining a variable across multiple files\n",
    "\n",
    "- **cat** - combines the the variable along the Time dimension (Note: you must put the files in the order you want them)\n",
    "- **join** - creates a new left-most dimension for each file\n"
   ]
  },
  {
   "cell_type": "markdown",
   "metadata": {
    "slideshow": {
     "slide_type": "subslide"
    }
   },
   "source": [
    "To extract all times in to a single array, set *timeidx* to wrf.ALL_TIMES (an alias for None).  \n",
    "\n",
    "In this example, we're using the 'cat' method, which is the most common.\n",
    "\n",
    "``` python\n",
    "from netCDF4 import Dataset\n",
    "from wrf import getvar, ALL_TIMES\n",
    "\n",
    "file_paths = [\n",
    "     \"./wrfout_d01_2005-08-28_00:00:00\",\n",
    "     \"./wrfout_d01_2005-08-28_12:00:00\"\n",
    "     ]\n",
    "\n",
    "wrf_files = [Dataset(file_paths[0]),\n",
    "             Dataset(file_paths[1])]\n",
    "\n",
    "slp = getvar(wrf_files, \"slp\", \n",
    "             timeidx=ALL_TIMES,\n",
    "             method=\"cat\")\n",
    "\n",
    "```"
   ]
  },
  {
   "cell_type": "markdown",
   "metadata": {
    "slideshow": {
     "slide_type": "subslide"
    }
   },
   "source": [
    "## Your Turn!\n"
   ]
  },
  {
   "cell_type": "markdown",
   "metadata": {
    "slideshow": {
     "slide_type": "-"
    }
   },
   "source": [
    "### Example 3.3: Combining Files Using the 'cat' Method"
   ]
  },
  {
   "cell_type": "code",
   "execution_count": null,
   "metadata": {
    "collapsed": true,
    "scrolled": true
   },
   "outputs": [],
   "source": [
    "from netCDF4 import Dataset\n",
    "from wrf import getvar, ALL_TIMES\n",
    "\n",
    "file_paths = multiple_wrf_files()\n",
    "\n",
    "wrf_files = [Dataset(file_paths[0]),\n",
    "             Dataset(file_paths[1])]\n",
    "\n",
    "slp = getvar(wrf_files, \"slp\", timeidx=ALL_TIMES, method=\"cat\")\n",
    "\n",
    "print (slp)"
   ]
  },
  {
   "cell_type": "markdown",
   "metadata": {
    "slideshow": {
     "slide_type": "subslide"
    }
   },
   "source": [
    "### Example 3.4: Combining Files Using the 'join' Method"
   ]
  },
  {
   "cell_type": "code",
   "execution_count": null,
   "metadata": {
    "collapsed": true
   },
   "outputs": [],
   "source": [
    "from netCDF4 import Dataset\n",
    "from wrf import getvar, ALL_TIMES\n",
    "\n",
    "file_paths = multiple_wrf_files()\n",
    "\n",
    "wrf_files = [Dataset(file_paths[0]),\n",
    "             Dataset(file_paths[1])]\n",
    "\n",
    "slp = getvar(wrf_files, \"slp\", timeidx=ALL_TIMES, method=\"join\")\n",
    "\n",
    "print (slp)"
   ]
  },
  {
   "cell_type": "markdown",
   "metadata": {
    "slideshow": {
     "slide_type": "subslide"
    }
   },
   "source": [
    "## Interpolation Routines\n",
    "\n",
    "- **interplevel** - linear interpolation to a horizontal plane at a specified height or pressure level\n",
    "- **vertcross** - vertical cross section interpolation to a vertical plane through two specified points \n",
    "  (or a pivot point and angle)\n",
    "- **vinterp** - interpolates to a \"surface\", which could be pressure levels or temperature levels like theta-e"
   ]
  },
  {
   "cell_type": "markdown",
   "metadata": {
    "slideshow": {
     "slide_type": "subslide"
    }
   },
   "source": [
    "## The *interplevel* function\n",
    "\n",
    "- The easiest way to get a field at a specified height or pressure vertical level (500 mb, 5000 m, etc)\n",
    "- Uses linear interpolation, which is fastest and generally \"good enough\" for plotting\n",
    "- You should use *vinterp* if you want more accuracy, since the interpolation is done with the decaying exponential \n",
    "  pressure profile"
   ]
  },
  {
   "cell_type": "markdown",
   "metadata": {
    "slideshow": {
     "slide_type": "subslide"
    }
   },
   "source": [
    "### *interplevel* Example\n",
    " \n",
    "Let's get the 500 hPa geopotential height in decameters\n",
    " \n",
    "``` python\n",
    " \n",
    "from netCDF4 import Dataset\n",
    "from wrf import getvar, interplevel\n",
    "\n",
    "file_path = \"./wrfout_d01_2005-08-28_00:00:00\"\n",
    "\n",
    "wrf_file = Dataset(file_path)\n",
    "\n",
    "pres = getvar(wrf_file, \"pressure\", timeidx=0)\n",
    "\n",
    "ht = getvar(wrf_file, \"z\", timeidx=0, \n",
    "            units=\"dm\")\n",
    "\n",
    "ht_500 = interplevel(ht, pres, 500.0)\n",
    " \n",
    "```"
   ]
  },
  {
   "cell_type": "markdown",
   "metadata": {
    "collapsed": true,
    "slideshow": {
     "slide_type": "subslide"
    }
   },
   "source": [
    "## Your Turn!\n",
    "\n",
    "### Example 3.5: Interpolate to 500 hPa Using *interplevel*"
   ]
  },
  {
   "cell_type": "code",
   "execution_count": null,
   "metadata": {
    "collapsed": true
   },
   "outputs": [],
   "source": [
    "from netCDF4 import Dataset\n",
    "from wrf import getvar, interplevel\n",
    "\n",
    "file_path = single_wrf_file()\n",
    "\n",
    "wrf_file = Dataset(file_path)\n",
    "\n",
    "pres = getvar(wrf_file, \"pressure\", timeidx=0)\n",
    "ht = getvar(wrf_file, \"z\", timeidx=0, units=\"dm\")\n",
    "\n",
    "ht_500 = interplevel(ht, pres, 500.0)\n",
    "\n",
    "print (ht_500)"
   ]
  },
  {
   "cell_type": "markdown",
   "metadata": {
    "slideshow": {
     "slide_type": "subslide"
    }
   },
   "source": [
    "## The *vertcross* function\n",
    "\n",
    "Vertical cross sections can be confusing to people.  The idea is to draw a horizontal line at the surface, and the cross section is defined as a vertical plane extending up from this line.\n",
    "\n",
    "- The new 'x-axis' in the cross section is the points along the line you made.  The line can be defined by:\n",
    "  1. defining a start point and an end point by using (x,y) grid coordinates or (latitude, longitude) coordinates.\n",
    "  2. defining a pivot point and an angle, which is useful for cross sections that will span most of the domain.\n",
    "- The new 'y-axis' will be a set of vertical levels chosen to be predefined levels, or you can choose them.  \n",
    "\n",
    "Also important to note that the horizontal line distance is discretized in to integer points, so the final point on the line may be slightly different than the end_point you have chosen.\n",
    "\n",
    "\n",
    "\n"
   ]
  },
  {
   "cell_type": "markdown",
   "metadata": {
    "slideshow": {
     "slide_type": "subslide"
    }
   },
   "source": [
    "### Introducing the *CoordPair* class\n",
    "\n",
    "A *CoordPair* is simply used to store (x,y) coordinates, or (lat,lon) coordinates.  It is also possible to have (x, y, lat, lon), but that's rarely used.  \n",
    "\n",
    "The *CoordPair* will be used to define your cross section line.\n",
    "\n",
    "``` python\n",
    "from wrf import CoordPair\n",
    "\n",
    "# Creating an x,y pair\n",
    "x_y_pair = CoordPair(x=10, y=20)\n",
    "\n",
    "# Creating a lat,lon pair\n",
    "lat_lon_pair = CoordPair(lat=30.0, lon=-120.0)\n",
    "\n",
    "```"
   ]
  },
  {
   "cell_type": "markdown",
   "metadata": {
    "slideshow": {
     "slide_type": "subslide"
    }
   },
   "source": [
    "### *vertcross* Example\n",
    "\n",
    "In this example, we're going to define the cross section using a start point and and end point.  \n",
    "\n",
    "We're going to let the algorithm pick the levels, which are at ~1% increments."
   ]
  },
  {
   "cell_type": "markdown",
   "metadata": {
    "slideshow": {
     "slide_type": "subslide"
    }
   },
   "source": [
    "``` python\n",
    " \n",
    "from netCDF4 import Dataset\n",
    "from wrf import getvar, vertcross, CoordPair\n",
    "\n",
    "file_path = \"./wrfout_d01_2005-08-28_00:00:00\"\n",
    "wrf_file = Dataset(file_path)\n",
    "\n",
    "# Making a diagonal cross section line from \n",
    "# bottom left to top right.\n",
    "bottom_left = CoordPair(x=0, y=0)\n",
    "\n",
    "top_right = CoordPair(x=-1, y=-1)\n",
    "\n",
    "# Let's get wind speed in kts\n",
    "wspd_wdir = getvar(wrf_file, \"wspd_wdir\", \n",
    "                   timeidx=0, units=\"kt\")\n",
    "                   \n",
    "wspd = wspd_wdir[0,...]\n",
    "\n",
    "# Get the height levels\n",
    "ht = getvar(wrf_file, \"z\", timeidx=0)\n",
    "\n",
    "wspd_cross = vertcross(wspd, ht, \n",
    "               start_point=bottom_left, \n",
    "               end_point=top_right)\n",
    "               \n",
    "```"
   ]
  },
  {
   "cell_type": "markdown",
   "metadata": {
    "slideshow": {
     "slide_type": "subslide"
    }
   },
   "source": [
    "## Your Turn!\n",
    "\n",
    "### Example 3.6: Interpolate to a Vertical Cross Section with *vertcross*"
   ]
  },
  {
   "cell_type": "code",
   "execution_count": null,
   "metadata": {
    "collapsed": true
   },
   "outputs": [],
   "source": [
    "from netCDF4 import Dataset\n",
    "from wrf import getvar, vertcross, CoordPair\n",
    "\n",
    "file_path = single_wrf_file()\n",
    "wrf_file = Dataset(file_path)\n",
    "\n",
    "# Making a diagonal cross section line from \n",
    "# bottom left to top right.\n",
    "bottom_left = CoordPair(x=0, y=0)\n",
    "\n",
    "top_right = CoordPair(x=-1, y=-1)\n",
    "\n",
    "# Let's get wind speed in kts\n",
    "wspd_wdir = getvar(wrf_file, \"wspd_wdir\", \n",
    "                   timeidx=0, units=\"kt\")\n",
    "                   \n",
    "wspd = wspd_wdir[0,:]\n",
    "\n",
    "# Get the height levels\n",
    "ht = getvar(wrf_file, \"z\", timeidx=0)\n",
    "\n",
    "wspd_cross = vertcross(wspd, ht, \n",
    "               start_point=bottom_left, \n",
    "               end_point=top_right)\n",
    "\n",
    "print (wspd_cross)\n"
   ]
  },
  {
   "cell_type": "markdown",
   "metadata": {
    "slideshow": {
     "slide_type": "subslide"
    }
   },
   "source": [
    "## The *vinterp* function\n",
    "\n",
    "- Used for interpolating a field to a type of surface:\n",
    "  - pressure\n",
    "  - geopotential height\n",
    "  - theta\n",
    "  - theta-e\n",
    "- User must specify the interpolation level(s) on the new surface\n",
    "- A smarter, albeit slower and more complicated, version of *interplevel*"
   ]
  },
  {
   "cell_type": "markdown",
   "metadata": {
    "slideshow": {
     "slide_type": "subslide"
    }
   },
   "source": [
    "### *vinterp* Example\n",
    "\n",
    "In this example, we're going to interpolate pressure to theta-e levels (good for doing isentropic analysis).  "
   ]
  },
  {
   "cell_type": "markdown",
   "metadata": {},
   "source": [
    "``` python\n",
    "\n",
    "from netCDF4 import Dataset\n",
    "from wrf import getvar, vinterp \n",
    "\n",
    "file_path = \"./wrfout_d01_2005-08-28_00:00:00\"\n",
    "wrf_file = Dataset(file_path) \n",
    "\n",
    "pres = getvar(wrf_file, \"pressure\", timeidx=0)\n",
    "\n",
    "# Interpolate pressure to theta-e levels                 \n",
    "interp_levels = [280, 285, 290, 292, 294, \n",
    "                 296, 298, 300, 305, 310]\n",
    "\n",
    "pres_eth = vinterp(wrf_file, \n",
    "               field=pres, \n",
    "               vert_coord=\"theta-e\", \n",
    "               interp_levels=interp_levels, \n",
    "               extrapolate=False, \n",
    "               field_type=\"pressure\", \n",
    "               log_p=False)\n",
    "```"
   ]
  },
  {
   "cell_type": "markdown",
   "metadata": {
    "slideshow": {
     "slide_type": "subslide"
    }
   },
   "source": [
    "## Your Turn!\n",
    "\n",
    "### Example 3.7: Interpolate to Theta-e Levels with *vinterp*"
   ]
  },
  {
   "cell_type": "code",
   "execution_count": null,
   "metadata": {
    "collapsed": true
   },
   "outputs": [],
   "source": [
    "from netCDF4 import Dataset\n",
    "from wrf import getvar, vinterp \n",
    "\n",
    "file_path = \"./wrfout_d01_2005-08-28_00:00:00\"\n",
    "wrf_file = Dataset(file_path) \n",
    "\n",
    "pres = getvar(wrf_file, \"pressure\", timeidx=0)\n",
    "\n",
    "# Interpolate pressure to theta-e levels                 \n",
    "interp_levels = [280., 285., 290., 292., 294., \n",
    "                 296., 298., 300., 305., 310.]\n",
    "\n",
    "pres_eth = vinterp(wrf_file, \n",
    "               field=pres, \n",
    "               vert_coord=\"theta-e\", \n",
    "               interp_levels=interp_levels, \n",
    "               extrapolate=True, \n",
    "               field_type=\"pressure\", \n",
    "               log_p=False,\n",
    "               timeidx=0)\n",
    "\n",
    "print (pres_eth)"
   ]
  },
  {
   "cell_type": "markdown",
   "metadata": {
    "slideshow": {
     "slide_type": "subslide"
    }
   },
   "source": [
    "# Other Useful Functions"
   ]
  },
  {
   "cell_type": "markdown",
   "metadata": {
    "slideshow": {
     "slide_type": "subslide"
    }
   },
   "source": [
    "## *to_np*\n",
    "\n",
    "Converts an xarray.DataArray to a numpy array.\n",
    "\n",
    "This is often necessary when passing wrf-python variables to the plotting functions or to a compiled extension module.\n",
    "\n",
    "This routines does the following:\n",
    "\n",
    "- If no missing values, then it simply calls the *xarray.DataArray.values* property.\n",
    "- If missing values are found, then it replaces the NaN that xarray uses for missing \n",
    "  values with the fill value found in the attributes.\n"
   ]
  },
  {
   "cell_type": "markdown",
   "metadata": {
    "slideshow": {
     "slide_type": "subslide"
    }
   },
   "source": [
    "### *to_np* Example\n",
    "\n",
    "``` python\n",
    "\n",
    "from netCDF4 import Dataset\n",
    "from wrf import getvar, to_np \n",
    "\n",
    "file_path = \"./wrfout_d01_2005-08-28_00:00:00\"\n",
    "wrf_file = Dataset(file_path) \n",
    "\n",
    "pres_xarray = getvar(wrf_file, \"pressure\", timeidx=0)\n",
    "\n",
    "pres_numpy = to_np(pres_xarray)\n",
    "\n",
    "```"
   ]
  },
  {
   "cell_type": "markdown",
   "metadata": {
    "slideshow": {
     "slide_type": "subslide"
    }
   },
   "source": [
    "## xy_to_ll and ll_to_xy\n",
    "\n",
    "These routines convert from grid (x,y) coordinates to (lat,lon) coordinates.  \n",
    "\n",
    "Works with a single point or sequences of points."
   ]
  },
  {
   "cell_type": "markdown",
   "metadata": {
    "slideshow": {
     "slide_type": "subslide"
    }
   },
   "source": [
    "### xy_to_ll and ll_to_xy Example\n",
    "\n",
    "``` python\n",
    "\n",
    "from netCDF4 import Dataset\n",
    "from wrf import getvar, xy_to_ll, ll_to_xy \n",
    "\n",
    "file_path = \"./wrfout_d01_2005-08-28_00:00:00\"\n",
    "wrf_file = Dataset(file_path)\n",
    "\n",
    "lat_lon = xy_to_ll(wrf_file, \n",
    "                  [20, 30], \n",
    "                  [50,75])\n",
    "\n",
    "x_y = ll_to_xy(wrf_file, \n",
    "               lat_lon[0,:],\n",
    "               lat_lon[1,:])\n",
    "\n",
    "\n",
    "```"
   ]
  },
  {
   "cell_type": "markdown",
   "metadata": {
    "slideshow": {
     "slide_type": "subslide"
    }
   },
   "source": [
    "## Your Turn!\n",
    "\n",
    "### Example 3.8: *xy_to_ll* and *ll_to_xy*"
   ]
  },
  {
   "cell_type": "code",
   "execution_count": null,
   "metadata": {
    "collapsed": true
   },
   "outputs": [],
   "source": [
    "from netCDF4 import Dataset\n",
    "from wrf import getvar, xy_to_ll, ll_to_xy \n",
    "\n",
    "file_path = single_wrf_file()\n",
    "wrf_file = Dataset(file_path)\n",
    "\n",
    "lat_lon = xy_to_ll(wrf_file, [20, 30], [50,75])\n",
    "\n",
    "print (\"lat,lon values\")\n",
    "print (lat_lon)\n",
    "print (\"\\n\")\n",
    "\n",
    "x_y = ll_to_xy(wrf_file, lat_lon[0,:], lat_lon[1,:])\n",
    "\n",
    "print (\"x,y values\")\n",
    "print (x_y)\n"
   ]
  },
  {
   "cell_type": "markdown",
   "metadata": {
    "slideshow": {
     "slide_type": "slide"
    }
   },
   "source": [
    "# 4.0 Plotting"
   ]
  },
  {
   "cell_type": "markdown",
   "metadata": {
    "slideshow": {
     "slide_type": "subslide"
    }
   },
   "source": [
    "Plotting wrf-python variables in Python can be done using either matplotlib or PyNGL.\n",
    "\n",
    "For this tutorial, we're going to focus on matplotlib (using cartopy for the mapping).\n",
    "\n",
    "We're going to use matplotlib 1.5.3, since cartopy is still having some issues with matplotlib 2.x."
   ]
  },
  {
   "cell_type": "markdown",
   "metadata": {
    "slideshow": {
     "slide_type": "subslide"
    }
   },
   "source": [
    "## Extremely Brief Overview of Matplotlib\n",
    "\n",
    "Under the hood, matplotlib uses and object oriented API.\n",
    "\n",
    "In simplest terms, a matplotlib plot consists of Figure object that contains an Axes object (or multiple Axes objects).\n",
    "\n",
    "The Axes object is where the action is.\n",
    "\n",
    "The Axes object contains the methods for contouring, making histograms, adding colorbar, etc.  \n",
    "\n",
    "\n",
    "\n"
   ]
  },
  {
   "cell_type": "markdown",
   "metadata": {
    "slideshow": {
     "slide_type": "subslide"
    }
   },
   "source": [
    "### The pyplot API\n",
    "\n",
    "Most matplotlib users do no need to know much about the underlying object oriented API.\n",
    "\n",
    "Matplotlib includes a series of standalone functions that wrap around the object oriented API.\n",
    "\n",
    "These standalone functions are in the matplotlib.pyplot package and it was designed to look similar to the Matlab API."
   ]
  },
  {
   "cell_type": "markdown",
   "metadata": {
    "slideshow": {
     "slide_type": "subslide"
    }
   },
   "source": [
    "## Your Turn!\n",
    "\n",
    "### Example 4.1: Single Wind Barb Example with pyplot\n",
    "\n",
    "In this example, we are going to plot a single wind barb in the center of the domain using the pyplot API."
   ]
  },
  {
   "cell_type": "code",
   "execution_count": null,
   "metadata": {
    "collapsed": true
   },
   "outputs": [],
   "source": [
    "from matplotlib import pyplot\n",
    "import numpy as np\n",
    "\n",
    "# Make a 5x5 grid of missing u,v values\n",
    "u = np.ma.masked_equal(np.zeros((5,5)), 0)\n",
    "v = np.ma.masked_equal(np.zeros((5,5)), 0)\n",
    "\n",
    "# Add u,v winds to center of domain\n",
    "u[2,2] = 10.0\n",
    "v[2,2] = 10.0\n",
    "\n",
    "# Draw a single wind barb in the middle using pyplot API\n",
    "# Note:  the axes objects are \"hidden\" in these functions\n",
    "fig = pyplot.figure()\n",
    "pyplot.barbs(u, v)\n",
    "\n",
    "# Set the x and y ranges so the barb is in the middle\n",
    "pyplot.xlim(0, 4)\n",
    "pyplot.ylim(0, 4)\n",
    "\n",
    "pyplot.show()\n",
    "\n",
    "\n"
   ]
  },
  {
   "cell_type": "markdown",
   "metadata": {
    "slideshow": {
     "slide_type": "subslide"
    }
   },
   "source": [
    "Often you will find yourself mixing the object oriented API with the pyplot API.  \n",
    "\n",
    "This is required when making subplots, but that is beyond the scope of this tutorial.  \n",
    "\n",
    "The next example shows how to make the single wind barb using the axes object directly."
   ]
  },
  {
   "cell_type": "markdown",
   "metadata": {
    "slideshow": {
     "slide_type": "subslide"
    }
   },
   "source": [
    "## Your Turn!\n",
    "\n",
    "### Example 4.2: Single Wind Barb Using the Axes Object"
   ]
  },
  {
   "cell_type": "code",
   "execution_count": null,
   "metadata": {
    "collapsed": true
   },
   "outputs": [],
   "source": [
    "from matplotlib import pyplot\n",
    "import numpy as np\n",
    "\n",
    "# Make a 5x5 grid of missing u,v values\n",
    "u = np.ma.masked_equal(np.zeros((5,5)), 0)\n",
    "v = np.ma.masked_equal(np.zeros((5,5)), 0)\n",
    "\n",
    "# Add u,v winds to center of domain\n",
    "u[2,2] = 10.0\n",
    "v[2,2] = 10.0\n",
    "\n",
    "# We'll use pyplot to create the figure and \n",
    "# get the axes\n",
    "fig = pyplot.figure()\n",
    "ax = pyplot.axes() # <- Remember this line\n",
    "\n",
    "# Now use the axes directly to create the barbs\n",
    "ax.barbs(u, v)\n",
    "\n",
    "# Set the x and y ranges using the axes directly\n",
    "ax.set_xlim(0, 4)\n",
    "ax.set_ylim(0, 4)\n",
    "\n",
    "pyplot.show()"
   ]
  },
  {
   "cell_type": "markdown",
   "metadata": {
    "slideshow": {
     "slide_type": "subslide"
    }
   },
   "source": [
    "## wrf-python Plotting Helper Functions\n",
    "\n",
    "wrf-python has several functions to help with plotting when using cartopy, basemap, or PyNGL.  \n",
    "\n",
    "- **get_cartopy, get_basemap, get_pyngl**: Returns the mapping object used by the plotting system\n",
    "- **latlon_coords**: Returns the latitude and longitude coordinate variables\n",
    "- **get_bounds**: Returns the geographic boundaries for the variable"
   ]
  },
  {
   "cell_type": "markdown",
   "metadata": {
    "collapsed": true,
    "slideshow": {
     "slide_type": "subslide"
    }
   },
   "source": [
    "## Plotting with cartopy\n",
    "\n",
    "Cartopy uses the same API as matplotlib by returning a matplotlib.axes.Axes subclass (cartopy.mpl.geoaxes.GeoAxes) when a *projection* keyword argument is passed to the matplotlib.pyplot.axes function.  \n",
    "\n",
    "### Getting the GeoAxes object\n",
    "\n",
    "``` python\n",
    "import matplotlib.pyplot\n",
    "import cartopy.crs\n",
    "\n",
    "# Set up a standard map for latlon data.\n",
    "geo_axes = pyplot.axes(projection=cartopy.crs.PlateCarree())\n",
    "\n",
    "```"
   ]
  },
  {
   "cell_type": "markdown",
   "metadata": {
    "slideshow": {
     "slide_type": "subslide"
    }
   },
   "source": [
    "### Getting the cartopy projection object using wrf-python\n",
    "\n",
    "When xarray is installed and enabled, wrf-python carries the projection information around in the metadata of a variable.  \n",
    "\n",
    "You can use the *get_cartopy* function to extract the cartopy projection object from a variable.  \n",
    "\n",
    "``` python\n",
    "\n",
    "from netCDF4 import Dataset\n",
    "from wrf import getvar, get_cartopy\n",
    "\n",
    "file_path = \"./wrfout_d01_2005-08-28_00:00:00\"\n",
    "\n",
    "wrf_file = Dataset(file_path)\n",
    "\n",
    "terrain = getvar(wrf_file, \"ter\", timeidx=0)\n",
    "\n",
    "cart_proj = get_cartopy(terrain)\n",
    "\n",
    "```"
   ]
  },
  {
   "cell_type": "markdown",
   "metadata": {
    "slideshow": {
     "slide_type": "subslide"
    }
   },
   "source": [
    "## Your Turn!\n",
    "\n",
    "### Example 4.3: Making a Plot of Terrain\n",
    "\n",
    "Let's make a plot of terrain.  It's the easiest way to check if your map is correct."
   ]
  },
  {
   "cell_type": "code",
   "execution_count": null,
   "metadata": {
    "collapsed": true,
    "slideshow": {
     "slide_type": "subslide"
    }
   },
   "outputs": [],
   "source": [
    "import numpy\n",
    "from matplotlib import pyplot\n",
    "from matplotlib.cm import get_cmap\n",
    "from cartopy import crs\n",
    "from cartopy.feature import NaturalEarthFeature\n",
    "from netCDF4 import Dataset\n",
    "from wrf import getvar, to_np, get_cartopy, latlon_coords\n",
    "\n",
    "file_path = single_wrf_file()\n",
    "wrf_file = Dataset(file_path)\n",
    "\n",
    "# Get the terrain height\n",
    "terrain = getvar(wrf_file, \"ter\", timeidx=0)\n",
    "\n",
    "# Get the cartopy object and the lat,lon coords\n",
    "cart_proj = get_cartopy(terrain)\n",
    "lats, lons = latlon_coords(terrain)\n",
    "\n",
    "# Create a figure and get the GetAxes object\n",
    "fig = pyplot.figure(figsize=(10, 7.5))\n",
    "geo_axes = pyplot.axes(projection=cart_proj)\n",
    "\n",
    "# Download and add the states and coastlines\n",
    "# See the cartopy documentation for more on this.\n",
    "states = NaturalEarthFeature(category='cultural', \n",
    "                             scale='50m', \n",
    "                             facecolor='none',\n",
    "                             name='admin_1_states_provinces_shp')\n",
    "geo_axes.add_feature(states, linewidth=.5)\n",
    "geo_axes.coastlines('50m', linewidth=0.8)\n",
    "\n",
    "# Set the contour levels\n",
    "levels = numpy.arange(250., 5000., 250.)\n",
    "\n",
    "# Make the contour lines and fill them.\n",
    "pyplot.contour(to_np(lons), to_np(lats), \n",
    "               to_np(terrain), levels=levels, \n",
    "               colors=\"black\",\n",
    "               transform=crs.PlateCarree())\n",
    "pyplot.contourf(to_np(lons), to_np(lats), \n",
    "                to_np(terrain), levels=levels,\n",
    "                transform=crs.PlateCarree(),\n",
    "                cmap=get_cmap(\"terrain\"))\n",
    "             \n",
    "# Add a color bar. The shrink often needs to be set \n",
    "# by trial and error.\n",
    "pyplot.colorbar(ax=geo_axes, shrink=.86)\n",
    "\n",
    "pyplot.show()"
   ]
  },
  {
   "cell_type": "markdown",
   "metadata": {
    "collapsed": true,
    "slideshow": {
     "slide_type": "subslide"
    }
   },
   "source": [
    "## Cropping\n",
    "\n",
    "Sometimes WRF domains are much larger than what you care about.\n",
    "\n",
    "Plots can be cropped in two ways using wrf-python:\n",
    "\n",
    "1. Crop the data before plotting.\n",
    "  - Less data to process = faster!\n",
    "  - There's a slight risk of issues at borders, \n",
    "    but matplotlib seems pretty smart about this.\n",
    "2. Crop the domain with matplotlib using x,y axis limits.\n",
    "  - Runs slower since all of the domain is contoured.\n",
    "  - Should always be correct."
   ]
  },
  {
   "cell_type": "markdown",
   "metadata": {
    "collapsed": true,
    "slideshow": {
     "slide_type": "subslide"
    }
   },
   "source": [
    "### Method 1: Cropping then Plotting\n",
    "\n",
    "If you are cropping the data, then cartopy should just work without worrying about setting the axis limits, as long as xarray is installed and enabled.\n",
    "\n",
    "Let's start by taking a quick look at sea level pressure.\n"
   ]
  },
  {
   "cell_type": "markdown",
   "metadata": {},
   "source": [
    "## Your Turn!\n",
    "\n",
    "### Example 4.4: Full Plot of Sea Level Pressure"
   ]
  },
  {
   "cell_type": "code",
   "execution_count": null,
   "metadata": {
    "collapsed": true,
    "slideshow": {
     "slide_type": "subslide"
    }
   },
   "outputs": [],
   "source": [
    "import numpy\n",
    "from matplotlib import pyplot\n",
    "from matplotlib.cm import get_cmap\n",
    "from cartopy import crs\n",
    "from cartopy.feature import NaturalEarthFeature\n",
    "from netCDF4 import Dataset\n",
    "from wrf import getvar, to_np, get_cartopy, latlon_coords\n",
    "\n",
    "file_path = single_wrf_file()\n",
    "wrf_file = Dataset(file_path)\n",
    "\n",
    "# Get the terrain height\n",
    "slp = getvar(wrf_file, \"slp\", timeidx=0)\n",
    "\n",
    "# Get the cartopy object and the lat,lon coords\n",
    "cart_proj = get_cartopy(slp)\n",
    "lats, lons = latlon_coords(slp)\n",
    "\n",
    "# Create a figure and get the GetAxes object\n",
    "fig = pyplot.figure(figsize=(10, 7.5))\n",
    "geo_axes = pyplot.axes(projection=cart_proj)\n",
    "\n",
    "# Download and add the states and coastlines\n",
    "# See the cartopy documentation for more on this.\n",
    "states = NaturalEarthFeature(category='cultural', \n",
    "                             scale='50m', \n",
    "                             facecolor='none',\n",
    "                             name='admin_1_states_provinces_shp')\n",
    "geo_axes.add_feature(states, linewidth=.5)\n",
    "geo_axes.coastlines('50m', linewidth=0.8)\n",
    "\n",
    "# Set the contour levels so that all plots match\n",
    "levels = numpy.arange(980.,1030.,2.5)\n",
    "\n",
    "# Make the contour lines and fill them.\n",
    "pyplot.contour(to_np(lons), to_np(lats), \n",
    "               to_np(slp), levels=levels, colors=\"black\",\n",
    "               transform=crs.PlateCarree())\n",
    "pyplot.contourf(to_np(lons), to_np(lats), \n",
    "                to_np(slp), levels=levels, \n",
    "                transform=crs.PlateCarree(),\n",
    "                cmap=get_cmap(\"jet\"))\n",
    "             \n",
    "# Add a color bar. The shrink often needs to be set \n",
    "# by trial and error.\n",
    "pyplot.colorbar(ax=geo_axes, shrink=.86)\n",
    "\n",
    "pyplot.show()"
   ]
  },
  {
   "cell_type": "markdown",
   "metadata": {
    "slideshow": {
     "slide_type": "subslide"
    }
   },
   "source": [
    "## Your Turn!\n",
    "\n",
    "### Example 4.5: Cropping by Slicing the Data\n",
    "\n",
    "Let's crop the data to the lower right quadrant."
   ]
  },
  {
   "cell_type": "code",
   "execution_count": null,
   "metadata": {
    "collapsed": true
   },
   "outputs": [],
   "source": [
    "import numpy\n",
    "from matplotlib import pyplot\n",
    "from matplotlib.cm import get_cmap\n",
    "from cartopy import crs\n",
    "from cartopy.feature import NaturalEarthFeature\n",
    "from netCDF4 import Dataset\n",
    "from wrf import getvar, to_np, get_cartopy, latlon_coords\n",
    "\n",
    "file_path = single_wrf_file()\n",
    "wrf_file = Dataset(file_path)\n",
    "\n",
    "# Get the terrain height\n",
    "slp = getvar(wrf_file, \"slp\", timeidx=0)\n",
    "\n",
    "# Determine the center of the domain in grid coordinates\n",
    "slp_shape = slp.shape\n",
    "center_y = int(slp_shape[-2]/2.) - 1\n",
    "center_x = int(slp_shape[-1]/2.) - 1\n",
    "\n",
    "# Slice from bottom to middle for y\n",
    "# Slice from middle to right for x\n",
    "slp_quad = slp[..., 0:center_y+1, center_x:]\n",
    "\n",
    "# Get the cartopy object and the lat,lon coords\n",
    "cart_proj = get_cartopy(slp_quad)\n",
    "lats, lons = latlon_coords(slp_quad)\n",
    "\n",
    "# Create a figure and get the GetAxes object\n",
    "fig = pyplot.figure(figsize=(10, 7.5))\n",
    "geo_axes = pyplot.axes(projection=cart_proj)\n",
    "\n",
    "# Download and add the states and coastlines\n",
    "# See the cartopy documentation for more on this.\n",
    "states = NaturalEarthFeature(category='cultural', \n",
    "                             scale='50m', \n",
    "                             facecolor='none',\n",
    "                             name='admin_1_states_provinces_shp')\n",
    "geo_axes.add_feature(states, linewidth=.5)\n",
    "geo_axes.coastlines('50m', linewidth=0.8)\n",
    "\n",
    "# Set the contour levels so that all plots match\n",
    "levels = numpy.arange(980.,1030.,2.5)\n",
    "\n",
    "# Make the contour lines and fill them.\n",
    "pyplot.contour(to_np(lons), to_np(lats), \n",
    "               to_np(slp_quad), levels=levels, colors=\"black\",\n",
    "               transform=crs.PlateCarree())\n",
    "pyplot.contourf(to_np(lons), to_np(lats), \n",
    "                to_np(slp_quad), levels=levels, \n",
    "                transform=crs.PlateCarree(),\n",
    "                cmap=get_cmap(\"jet\"))\n",
    "             \n",
    "# Add a color bar. The shrink often needs to be set \n",
    "# by trial and error.\n",
    "pyplot.colorbar(ax=geo_axes, shrink=.83)\n",
    "\n",
    "pyplot.show()"
   ]
  },
  {
   "cell_type": "markdown",
   "metadata": {
    "slideshow": {
     "slide_type": "subslide"
    }
   },
   "source": [
    "### Method 2: Cropping by Setting x and y Extents\n",
    "\n",
    "This time, let's crop the domain by using the x and y extents in matplotlib.\n",
    "\n",
    "Also, we're going to crop the domain using lat,lon geographic boundaries."
   ]
  },
  {
   "cell_type": "markdown",
   "metadata": {
    "slideshow": {
     "slide_type": "subslide"
    }
   },
   "source": [
    "#### Introducing the GeoBounds class\n",
    "\n",
    "To create geographic boundaries, you supply a GeoBounds object constructed with set of bottom_left and top_right CoordPair objects.\n",
    "\n",
    "The CoordPair objects need to use the *lat* and *lon* arguments.\n",
    "\n",
    "``` python\n",
    "\n",
    "from wrf import CoordPair, GeoBounds\n",
    "\n",
    "bottom_left = CoordPair(lat=29.5, lon=-110)\n",
    "top_right = CoordPair(lat=30.0, lon=-109.3)\n",
    "\n",
    "geo_bounds = GeoBounds(bottom_left, top_right)\n",
    "\n",
    "```"
   ]
  },
  {
   "cell_type": "markdown",
   "metadata": {
    "slideshow": {
     "slide_type": "subslide"
    }
   },
   "source": [
    "### Setting the Cartopy Extents\n",
    "\n",
    "After setting up the GeoBounds objects, you can use *cartopy_xlim* and *cartopy_ylim* functions to set the extents.  \n",
    "\n",
    "Note: Cartopy also has an API for doing this, but it doesn't work correctly for some projections like the RotatedPole.  \n",
    "\n",
    "``` python\n",
    "\n",
    "from wrf import (CoordPair, GeoBounds, getvar, \n",
    "                 cartopy_xlim, cartopy_ylim)\n",
    "\n",
    "bottom_left = CoordPair(lat=29.5, lon=-110)\n",
    "top_right = CoordPair(lat=30.0, lon=-109.3)\n",
    "\n",
    "geo_bounds = GeoBounds(bottom_left, top_right)\n",
    ".\n",
    ". (Set up variable, figure, geo_axes, etc)\n",
    ".\n",
    "\n",
    "xlim = cartopy_xlim(variable, \n",
    "                    geobounds=geo_bounds))\n",
    "                    \n",
    "geo_axes.set_xlim(xlim)\n",
    "         \n",
    "ylim = cartopy_ylim(variable,\n",
    "                    geobounds=geo_bounds))\n",
    "                    \n",
    "geo_axes.set_ylim(ylim)\n",
    "\n",
    "\n",
    "```"
   ]
  },
  {
   "cell_type": "markdown",
   "metadata": {
    "slideshow": {
     "slide_type": "subslide"
    }
   },
   "source": [
    "## Your Turn!\n",
    "\n",
    "### Example 4.6: Cropping by Setting the X,Y Extents"
   ]
  },
  {
   "cell_type": "code",
   "execution_count": null,
   "metadata": {
    "collapsed": true
   },
   "outputs": [],
   "source": [
    "import numpy\n",
    "from matplotlib import pyplot\n",
    "from matplotlib.cm import get_cmap\n",
    "from cartopy import crs\n",
    "from cartopy.feature import NaturalEarthFeature\n",
    "from netCDF4 import Dataset\n",
    "from wrf import getvar, to_np, get_cartopy, latlon_coords\n",
    "from wrf import xy_to_ll, cartopy_xlim, cartopy_ylim\n",
    "from wrf import CoordPair, GeoBounds\n",
    "\n",
    "file_path = single_wrf_file()\n",
    "wrf_file = Dataset(file_path)\n",
    "\n",
    "# Get the terrain height\n",
    "slp = getvar(wrf_file, \"slp\", timeidx=0)\n",
    "\n",
    "# Get the cartopy object and the lat,lon coords\n",
    "cart_proj = get_cartopy(slp)\n",
    "lats, lons = latlon_coords(slp)\n",
    "\n",
    "# Create a figure and get the GetAxes object\n",
    "fig = pyplot.figure(figsize=(10, 7.5))\n",
    "geo_axes = pyplot.axes(projection=cart_proj)\n",
    "\n",
    "# Download and add the states and coastlines\n",
    "# See the cartopy documentation for more on this.\n",
    "states = NaturalEarthFeature(category='cultural', \n",
    "                             scale='50m', \n",
    "                             facecolor='none',\n",
    "                             name='admin_1_states_provinces_shp')\n",
    "geo_axes.add_feature(states, linewidth=.5)\n",
    "geo_axes.coastlines('50m', linewidth=0.8)\n",
    "\n",
    "# Set the contour levels so that all plots match\n",
    "levels = numpy.arange(980.,1030.,2.5)\n",
    "\n",
    "# Make the contour lines and fill them.\n",
    "pyplot.contour(to_np(lons), to_np(lats), \n",
    "               to_np(slp), levels=levels, colors=\"black\",\n",
    "               transform=crs.PlateCarree())\n",
    "pyplot.contourf(to_np(lons), to_np(lats), \n",
    "                to_np(slp), levels=levels, \n",
    "                transform=crs.PlateCarree(),\n",
    "                cmap=get_cmap(\"jet\"))\n",
    "             \n",
    "# Add a color bar. The shrink often needs to be set \n",
    "# by trial and error.\n",
    "pyplot.colorbar(ax=geo_axes, shrink=.83)\n",
    "\n",
    "# Set up the x, y extents\n",
    "\n",
    "# Determine the center of the domain in grid coordinates\n",
    "slp_shape = slp.shape\n",
    "start_y = 0\n",
    "center_y = int(slp_shape[-2]/2.) - 1\n",
    "center_x = int(slp_shape[-1]/2.) - 1\n",
    "end_x = int(slp_shape[-1]) - 1\n",
    "\n",
    "# Get the lats and lons for the start, center, and end points\n",
    "# (Normally you would just set these yourself)\n",
    "center_latlon = xy_to_ll(wrf_file, \n",
    "                         [center_x, end_x], \n",
    "                         [start_y, center_y])\n",
    "\n",
    "start_lat = center_latlon[0,0]\n",
    "end_lat = center_latlon[0,1]\n",
    "start_lon = center_latlon[1,0]\n",
    "end_lon = center_latlon[1,1]\n",
    "\n",
    "# Set the extents\n",
    "geo_bounds = GeoBounds(CoordPair(lat=start_lat, lon=start_lon),\n",
    "                       CoordPair(lat=end_lat, lon=end_lon))\n",
    "geo_axes.set_xlim(cartopy_xlim(slp, geobounds=geo_bounds))\n",
    "geo_axes.set_ylim(cartopy_ylim(slp, geobounds=geo_bounds))\n",
    "\n",
    "pyplot.show()"
   ]
  },
  {
   "cell_type": "code",
   "execution_count": null,
   "metadata": {
    "collapsed": true
   },
   "outputs": [],
   "source": []
  },
  {
   "cell_type": "code",
   "execution_count": null,
   "metadata": {
    "collapsed": true
   },
   "outputs": [],
   "source": []
  }
 ],
 "metadata": {
  "celltoolbar": "Slideshow",
  "kernelspec": {
   "display_name": "Python 2",
   "language": "python",
   "name": "python2"
  },
  "language_info": {
   "codemirror_mode": {
    "name": "ipython",
    "version": 2
   },
   "file_extension": ".py",
   "mimetype": "text/x-python",
   "name": "python",
   "nbconvert_exporter": "python",
   "pygments_lexer": "ipython2",
   "version": "2.7.13"
  },
  "livereveal": {
   "height": 768,
   "scroll": true,
   "start_slideshow_at": "selected",
   "transition": "zoom",
   "width": 1024
  }
 },
 "nbformat": 4,
 "nbformat_minor": 2
}
