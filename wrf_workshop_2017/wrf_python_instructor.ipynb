{
 "cells": [
  {
   "cell_type": "code",
   "execution_count": null,
   "metadata": {
    "collapsed": true
   },
   "outputs": [],
   "source": []
  },
  {
   "cell_type": "markdown",
   "metadata": {
    "slideshow": {
     "slide_type": "subslide"
    }
   },
   "source": [
    "To set up the tutorial to work with your files, modify the WRF_DIRECTORY and WRF_FILES variables to point to your WRF files.\n",
    "\n",
    "**IMPORTANT**:  If for some reason your workbook crashes, you need to run this cell again before running the later examples."
   ]
  },
  {
   "cell_type": "code",
   "execution_count": null,
   "metadata": {
    "slideshow": {
     "slide_type": "-"
    }
   },
   "outputs": [],
   "source": [
    "from __future__ import print_function\n",
    "\n",
    "# This jupyter notebook command inserts matplotlib graphics in \n",
    "# to the workbook\n",
    "%matplotlib inline\n",
    "\n",
    "# Modify these to point to your own files\n",
    "WRF_DIRECTORY = \"./\"\n",
    "WRF_FILES = [\"wrfout_d01_2005-08-28_00:00:00\",\n",
    "             \"wrfout_d01_2005-08-28_12:00:00\"]\n",
    "\n",
    "\n",
    "# Do not modify the code below this line\n",
    "#------------------------------------------------------\n",
    "_WRF_FILES = [os.path.abspath(os.path.expanduser(\n",
    "    os.path.join(WRF_DIRECTORY, f))) for f in WRF_FILES]\n",
    "\n",
    "# Make sure the environment is good\n",
    "from netCDF4 import Dataset\n",
    "from xarray import DataArray\n",
    "from wrf import (getvar, interplevel, vertcross, \n",
    "                 vinterp, ALL_TIMES)\n",
    "\n",
    "# Check that the WRF files exist\n",
    "import os\n",
    "for f in _WRF_FILES:\n",
    "    if not os.path.exists(f):\n",
    "        raise ValueError(\"{} does not exist. \"\n",
    "            \"Did you type it in correctly?\".format(full_path))\n",
    "\n",
    "# Create functions so that the WRF files only need to be specified in \n",
    "# one place\n",
    "def single_wrf_file():\n",
    "    global _WRF_FILES\n",
    "    return _WRF_FILES[0]\n",
    "\n",
    "def multiple_wrf_files():\n",
    "    global _WRF_FILES\n",
    "    return _WRF_FILES\n",
    "\n",
    "print (\"All tests passed!\")\n",
    "    \n"
   ]
  },
  {
   "cell_type": "code",
   "execution_count": null,
   "metadata": {
    "collapsed": true
   },
   "outputs": [],
   "source": []
  },
  {
   "cell_type": "code",
   "execution_count": null,
   "metadata": {
    "collapsed": true
   },
   "outputs": [],
   "source": []
  },
  {
   "cell_type": "code",
   "execution_count": null,
   "metadata": {
    "collapsed": true
   },
   "outputs": [],
   "source": []
  },
  {
   "cell_type": "code",
   "execution_count": null,
   "metadata": {
    "collapsed": true
   },
   "outputs": [],
   "source": []
  },
  {
   "cell_type": "markdown",
   "metadata": {
    "slideshow": {
     "slide_type": "slide"
    }
   },
   "source": [
    "# Overview of WRF Output Data"
   ]
  },
  {
   "cell_type": "markdown",
   "metadata": {
    "slideshow": {
     "slide_type": "subslide"
    }
   },
   "source": [
    "The first rule of data processing:\n",
    "\n",
    "**\"ALWAYS LOOK AT YOUR DATA\"**\n",
    "\n",
    "\\- D. Shea"
   ]
  },
  {
   "cell_type": "markdown",
   "metadata": {
    "slideshow": {
     "slide_type": "subslide"
    }
   },
   "source": [
    "WRF can be configured in various ways and can have variables turned on and off.  If you run in to problems, it could be due to a variable missing.  If your plot doesn't look right, there could be a map projection issue.\n",
    "\n",
    "Let's look at some WRF data...how do we do that?\n",
    "\n",
    "There are numerous tools available to examine NetCDF data, from both outside and inside of Python.\n",
    "\n",
    "- **ncdump** (used for this example)\n",
    "- ncl_filedump\n",
    "- netcdf4-python \n",
    "- xarray\n"
   ]
  },
  {
   "cell_type": "markdown",
   "metadata": {
    "slideshow": {
     "slide_type": "subslide"
    }
   },
   "source": [
    "## ncdump\n",
    "\n",
    "ncdump is a program included with the NetCDF libraries that can be used to examine NetCDF data.\n",
    "\n",
    "By supplying the '-h' option, only the data descriptions are returned.  Otherwise, you'll get all of the data values, which can span miles.\n",
    "\n",
    "To run:\n",
    "\n",
    "```\n",
    "$ ncdump -h wrfout_d01_2005-08-28_00:00:00\n",
    "```"
   ]
  },
  {
   "cell_type": "markdown",
   "metadata": {
    "slideshow": {
     "slide_type": "subslide"
    }
   },
   "source": [
    "<div id=\"nc_dims\" style=\"font-size:75%;\"/>\n",
    "``` \n",
    "netcdf wrfout_d01_2005-08-28_00\\:00\\:00 {\n",
    "dimensions:\n",
    "    Time = UNLIMITED ; // (4 currently)\n",
    "    \n",
    "    DateStrLen = 19 ;\n",
    "    \n",
    "    west_east = 90 ;\n",
    "    \n",
    "    south_north = 73 ;\n",
    "    \n",
    "    bottom_top = 29 ;\n",
    "    \n",
    "    bottom_top_stag = 30 ;\n",
    "    \n",
    "    soil_layers_stag = 4 ;\n",
    "    \n",
    "    west_east_stag = 91 ;\n",
    "    \n",
    "    south_north_stag = 74 ;\n",
    "    \n",
    "```\n",
    "</div>\n",
    "\n"
   ]
  },
  {
   "cell_type": "markdown",
   "metadata": {
    "collapsed": true,
    "slideshow": {
     "slide_type": "subslide"
    }
   },
   "source": [
    "<div id=\"nc_vars\" style=\"font-size:75%;\">\n",
    "```\n",
    "variables:\n",
    "    char Times(Time, DateStrLen) ;\n",
    "    float XLAT(Time, south_north, west_east) ;\n",
    "        XLAT:FieldType = 104 ;\n",
    "        XLAT:MemoryOrder = \"XY \" ;\n",
    "        XLAT:description = \"LATITUDE, SOUTH IS NEGATIVE\" ;\n",
    "        XLAT:units = \"degree_north\" ;\n",
    "        XLAT:stagger = \"\" ;\n",
    "        XLAT:coordinates = \"XLONG XLAT\" ;\n",
    "    float XLONG(Time, south_north, west_east) ;\n",
    "        XLONG:FieldType = 104 ;\n",
    "        XLONG:MemoryOrder = \"XY \" ;\n",
    "        XLONG:description = \"LONGITUDE, WEST IS NEGATIVE\" ;\n",
    "        XLONG:units = \"degree_east\" ;\n",
    "        XLONG:stagger = \"\" ;\n",
    "        XLONG:coordinates = \"XLONG XLAT\" ;\n",
    "        .\n",
    "        .\n",
    "        .\n",
    "    float SST_INPUT(Time, south_north, west_east) ;\n",
    "        SST_INPUT:FieldType = 104 ;\n",
    "        SST_INPUT:MemoryOrder = \"XY \" ;\n",
    "        SST_INPUT:description = \"SEA SURFACE TEMPERATURE \n",
    "            FROM WRFLOWINPUT FILE\" ;\n",
    "        SST_INPUT:units = \"K\" ;\n",
    "        SST_INPUT:stagger = \"\" ;\n",
    "        SST_INPUT:coordinates = \"XLONG XLAT XTIME\" ;\n",
    "```\n",
    "</div>"
   ]
  },
  {
   "cell_type": "markdown",
   "metadata": {
    "slideshow": {
     "slide_type": "subslide"
    }
   },
   "source": [
    "<div id=\"nc_attrs\" style=\"font-size:75%;\">\n",
    "```\n",
    "// global attributes:\n",
    "        :TITLE = \" OUTPUT FROM WRF V3.7 MODEL\" ;\n",
    "        :START_DATE = \"2005-08-28_00:00:00\" ;\n",
    "        :SIMULATION_START_DATE = \"2005-08-28_00:00:00\" ;\n",
    "        :WEST-EAST_GRID_DIMENSION = 91 ;\n",
    "        :SOUTH-NORTH_GRID_DIMENSION = 74 ;\n",
    "        :BOTTOM-TOP_GRID_DIMENSION = 30 ;\n",
    "        :DX = 30000.f ;\n",
    "        :DY = 30000.f ;\n",
    "        .\n",
    "        .\n",
    "        .\n",
    "        :CEN_LAT = 28.00002f ;\n",
    "        :CEN_LON = -89.f ;\n",
    "        :TRUELAT1 = 30.f ;\n",
    "        :TRUELAT2 = 60.f ;\n",
    "        :MOAD_CEN_LAT = 28.00002f ;\n",
    "        :STAND_LON = -89.f ;\n",
    "        :POLE_LAT = 90.f ;\n",
    "        :POLE_LON = 0.f ;\n",
    "        :GMT = 0.f ;\n",
    "        :JULYR = 2005 ;\n",
    "        :JULDAY = 240 ;\n",
    "        :MAP_PROJ = 1 ;\n",
    "        :MAP_PROJ_CHAR = \"Lambert Conformal\" ;\n",
    "        .\n",
    "        .\n",
    "        .\n",
    "}\n",
    "```\n",
    "</div>"
   ]
  },
  {
   "cell_type": "markdown",
   "metadata": {
    "collapsed": true,
    "slideshow": {
     "slide_type": "subslide"
    }
   },
   "source": [
    "## Dimensions\n",
    "\n",
    "WRF uses an Arakawa C-grid staggered grid [(taken from mmm website)] [1]\n",
    "\n",
    "- Mass related quantities (pressure, temperature, etc) are computed at the center of a grid cell. \n",
    "- The u-component of the horizontal wind is calculated at the left and right edges of a grid cell.  It has one more \n",
    "  point in the x direction than the mass grid.\n",
    "- The v-component of the horizontal wind is calculated at the bottom and top edges of a grid cell.  It has one more     point in the y direction than the mass grid. \n",
    "- The corners of each grid box are know as the 'staggered' grid, and has one additional point in both the x and y direction.\n",
    "\n",
    "[1]: http://www2.mmm.ucar.edu/rt/amps/information/configuration/wrf_grid_structure.html"
   ]
  },
  {
   "cell_type": "markdown",
   "metadata": {
    "slideshow": {
     "slide_type": "subslide"
    }
   },
   "source": [
    "![alt](images/wrf_stagger.png)"
   ]
  },
  {
   "cell_type": "markdown",
   "metadata": {
    "slideshow": {
     "slide_type": "subslide"
    }
   },
   "source": [
    "<div id=\"nc_dims\" style=\"font-size:75%;\"/>\n",
    "``` \n",
    "netcdf wrfout_d01_2005-08-28_00\\:00\\:00 {\n",
    "dimensions:\n",
    "    Time = UNLIMITED ; // (4 currently)\n",
    "    \n",
    "    DateStrLen = 19 ;\n",
    "    \n",
    "    west_east = 90 ;\n",
    "    \n",
    "    south_north = 73 ;\n",
    "    \n",
    "    bottom_top = 29 ;\n",
    "    \n",
    "    bottom_top_stag = 30 ; <-- Extra grid point\n",
    "    \n",
    "    soil_layers_stag = 4 ;\n",
    "    \n",
    "    west_east_stag = 91 ; <-- Extra grid point\n",
    "    \n",
    "    south_north_stag = 74 ; <-- Extra grid point\n",
    "    \n",
    "```\n",
    "</div>"
   ]
  },
  {
   "cell_type": "markdown",
   "metadata": {
    "slideshow": {
     "slide_type": "subslide"
    }
   },
   "source": [
    "## Variables\n",
    "\n",
    "- Each variable is made up of dimensions, attributes, and data values. \n",
    "- Pay special attention to the units and coordinates attribute.\n",
    "  - The coordinates attribute specifies the variables that contain the latitude and longitude \n",
    "    information for each grid box (XLONG, XLAT).\n",
    "  - If the domain is from a moving nest, then a time coordinate is also used (XTIME).\n",
    "  - The coordinates are named in Fortran ordering, so they'll be listed in reverse.\n",
    "\n",
    "\n"
   ]
  },
  {
   "cell_type": "markdown",
   "metadata": {
    "slideshow": {
     "slide_type": "subslide"
    }
   },
   "source": [
    "<div id=\"var_example\" style=\"font-size:75%;\"/>\n",
    "```\n",
    "float P(Time, bottom_top, south_north, west_east) ; <- Dims\n",
    "\tP:FieldType = 104 ;                       <-  Attribute\n",
    "\tP:MemoryOrder = \"XYZ\" ;                   <-  Attribute\n",
    "    P:description = \"perturbation pressure\" ; <-  Attribute\n",
    "\tP:units = \"Pa\" ;                          <-  Attribute\n",
    "    P:stagger = \"\" ;                          <-  Attribute\n",
    "\tP:coordinates = \"XLONG XLAT XTIME\" ;      <-  Attribute\n",
    "    \n",
    "data:\n",
    "\n",
    " P =\n",
    "  339.8281, 340.3281, 340.25, 341.4531, ... \n",
    "    355.8672, 356.9531, 361.2578, 365.7188,  ...\n",
    "\n",
    "```\n",
    "</div>"
   ]
  },
  {
   "cell_type": "markdown",
   "metadata": {
    "slideshow": {
     "slide_type": "subslide"
    }
   },
   "source": [
    "## Global Attributes\n",
    "\n",
    "- Provide a description of how the model was set up (resolution, map projection, microphysics, etc)\n",
    "- For plotting, the map projection parameters will be the most important.\n",
    "- wrf-python uses this information to build the mapping object in your plotting system of choice - basemap, cartopy, pyngl.\n",
    "\n",
    "\n"
   ]
  },
  {
   "cell_type": "markdown",
   "metadata": {
    "slideshow": {
     "slide_type": "subslide"
    }
   },
   "source": [
    "<div id=\"proj_stuff\" style=\"font-size:75%;\"/>\n",
    "```\n",
    ".\n",
    ".\n",
    ".\n",
    ":CEN_LAT = 28.00002f ;\n",
    ":CEN_LON = -89.f ;\n",
    ":TRUELAT1 = 30.f ;\n",
    ":TRUELAT2 = 60.f ;\n",
    ":MOAD_CEN_LAT = 28.00002f ;\n",
    ":STAND_LON = -89.f ;\n",
    ":POLE_LAT = 90.f ;\n",
    ":POLE_LON = 0.f ;\n",
    ".\n",
    ".\n",
    ":MAP_PROJ = 1 ;\n",
    ":MAP_PROJ_CHAR = \"Lambert Conformal\" ;\n",
    ".\n",
    ".\n",
    ".\n",
    "```\n",
    "</div>"
   ]
  },
  {
   "cell_type": "markdown",
   "metadata": {
    "slideshow": {
     "slide_type": "slide"
    }
   },
   "source": [
    "## Your Turn!"
   ]
  },
  {
   "cell_type": "code",
   "execution_count": null,
   "metadata": {
    "scrolled": true
   },
   "outputs": [],
   "source": [
    "from subprocess import Popen, PIPE, STDOUT\n",
    "\n",
    "file_path = single_wrf_file()\n",
    "\n",
    "# This simply executes 'ncdump -h {wrf_file}' \n",
    "# from Python\n",
    "p = Popen([\"ncdump\", \"-h\", \"{}\".format(file_path)], \n",
    "          stdout=PIPE, stderr=STDOUT)\n",
    "output, _ = p.communicate()\n",
    "\n",
    "print (output)\n"
   ]
  },
  {
   "cell_type": "markdown",
   "metadata": {
    "slideshow": {
     "slide_type": "subslide"
    }
   },
   "source": [
    "## Reading a WRF File in Python\n",
    "\n",
    "You have several options to read a WRF NetCDF file in Python. \n",
    "\n",
    "- **netcdf4-python**\n",
    "- PyNIO (currently Python 2.x only)\n",
    "- xarray (Dataset not natively supported yet in wrf-python)\n"
   ]
  },
  {
   "cell_type": "markdown",
   "metadata": {
    "slideshow": {
     "slide_type": "subslide"
    }
   },
   "source": [
    "## netcdf4-python Example\n",
    "\n",
    "``` python\n",
    "from netCDF4 import Dataset\n",
    "\n",
    "file_path = \"./wrfout_d01_2005-08-28_00:00:00\"\n",
    "\n",
    "wrf_file = Dataset(file_path)\n",
    "\n",
    "```"
   ]
  },
  {
   "cell_type": "markdown",
   "metadata": {
    "slideshow": {
     "slide_type": "subslide"
    }
   },
   "source": [
    "## Your Turn!"
   ]
  },
  {
   "cell_type": "code",
   "execution_count": null,
   "metadata": {},
   "outputs": [],
   "source": [
    "from netCDF4 import Dataset\n",
    "\n",
    "file_path = single_wrf_file()\n",
    "\n",
    "wrf_file = Dataset(file_path)\n",
    "\n",
    "print(wrf_file)\n"
   ]
  },
  {
   "cell_type": "markdown",
   "metadata": {
    "slideshow": {
     "slide_type": "subslide"
    }
   },
   "source": [
    "## Getting Variables and Attributes\n",
    "\n",
    "netcdf4-python uses an old API that was originally created for an old package called Scientific.IO.NetCDF.  PyNIO also uses this API.  Some of it may look a little dated.\n",
    "\n",
    "\n"
   ]
  },
  {
   "cell_type": "markdown",
   "metadata": {
    "slideshow": {
     "slide_type": "subslide"
    }
   },
   "source": [
    "### Getting global attributes\n",
    "\n",
    "The get the full dictionary of global attributes, use the \\_\\_dict\\_\\_ attribute.  To work with one attribute at a time, you can use the getncattr and setncattr methods. \n",
    "\n",
    "``` python\n",
    "global_attrs = wrf_file.__dict__\n",
    "\n",
    "# To get the value for MAP_PROJ, you can do:\n",
    "map_proj = wrf_file.__dict__[\"MAP_PROJ\"]\n",
    "\n",
    "# Or more cleanly\n",
    "map_prof = wrf_file.getncattr(\"MAP_PROJ\")\n",
    "\n",
    "```"
   ]
  },
  {
   "cell_type": "markdown",
   "metadata": {
    "slideshow": {
     "slide_type": "subslide"
    }
   },
   "source": [
    "### Getting variables, variable attributes, and variable data\n",
    "\n",
    "All variables are stored in a dictionary attribute called *variables*.  \n",
    "\n",
    "Let's get the perturbation pressure (\"P\") variable.\n",
    "\n",
    "``` python\n",
    "\n",
    "# This will return a netCDF4.Variable object\n",
    "p = wrf_file.variables[\"P\"]\n",
    "\n",
    "```"
   ]
  },
  {
   "cell_type": "markdown",
   "metadata": {
    "slideshow": {
     "slide_type": "subslide"
    }
   },
   "source": [
    "To get the variable attributes, you can use the \\_\\_dict\\_\\_ attribute to get a dictionary of all attributes, or the *getncattr* function if you already know the attribute name.\n",
    "\n",
    "``` python\n",
    "# Return a dictionary of all of P's \n",
    "# attributes\n",
    "p_attrs = p.__dict__\n",
    "\n",
    "# Let's just get the 'coordinates' attribute\n",
    "p_coords = p.getncattr(\"coordinates\")\n",
    "\n",
    "```"
   ]
  },
  {
   "cell_type": "markdown",
   "metadata": {
    "slideshow": {
     "slide_type": "subslide"
    }
   },
   "source": [
    "To get the variable's data as a numpy array, you need to use Python's [ ] API (\\_\\_getitem\\_\\_ for those that are more familiar with Python's data model).  \n",
    "\n",
    "``` python\n",
    "\n",
    "# Get a numpy array for all times\n",
    "p_all_data = p[:,:,:,:]\n",
    "\n",
    "# In numpy, there is implicit expansion of ':'\n",
    "# across all dimensions. So, this is the \n",
    "# same as p[:,:,:,:]\n",
    "p_all_data = p[:]\n",
    "\n",
    "# You can also request specific values \n",
    "# by supplying indexes.  This will \n",
    "# extract the numpy array for time \n",
    "# index 0.\n",
    "\n",
    "p_t0_data = p[0,:]\n",
    "\n",
    "\n",
    "```"
   ]
  },
  {
   "cell_type": "markdown",
   "metadata": {
    "slideshow": {
     "slide_type": "subslide"
    }
   },
   "source": [
    "## Your Turn!"
   ]
  },
  {
   "cell_type": "code",
   "execution_count": null,
   "metadata": {},
   "outputs": [],
   "source": [
    "from netCDF4 import Dataset\n",
    "\n",
    "file_path = single_wrf_file()\n",
    "\n",
    "# Create the netCDF4.Dataset object\n",
    "wrf_file = Dataset(file_path)\n",
    "\n",
    "# Get the global attribute dict\n",
    "global_attrs = wrf_file.__dict__\n",
    "print (\"Global attributes for the file\")\n",
    "print(global_attrs)\n",
    "print (\"\\n\")\n",
    "\n",
    "# Just get the 'MAP_PROJ' attribute\n",
    "map_proj = wrf_file.getncattr(\"MAP_PROJ\")\n",
    "print (\"The MAP_PROJ attribute:\")\n",
    "print (map_proj)\n",
    "print(\"\\n\")\n",
    "\n",
    "# Get the perturbation pressure variable\n",
    "p = wrf_file.variables[\"P\"]\n",
    "print (\"The P variable: \")\n",
    "print(p)\n",
    "print (\"\\n\")\n",
    "\n",
    "# Get the P attributes\n",
    "p_attrs = p.__dict__\n",
    "print (\"The attribute dict for P\")\n",
    "print (p_attrs)\n",
    "print (\"\\n\")\n",
    "\n",
    "# Get the 'coordinates' attribute for P\n",
    "coords = p.getncattr(\"coordinates\")\n",
    "print (\"Coordinates for P:\")\n",
    "print (coords)\n",
    "print (\"\\n\")\n",
    "\n",
    "# Get the P numpy array for all times\n",
    "p_all_data = p[:]\n",
    "print (\"The P numpy array: \")\n",
    "print (p_all_data)\n",
    "print (\"\\n\")\n",
    "\n",
    "# Get the P numpy array for time 0\n",
    "p_t0_data = p[0,:]\n",
    "print (\"P array at time 0:\")\n",
    "print (p_t0_data)\n",
    "print (\"\\n\")"
   ]
  },
  {
   "cell_type": "markdown",
   "metadata": {
    "slideshow": {
     "slide_type": "subslide"
    }
   },
   "source": [
    "## Pop Quiz\n",
    "\n",
    "What is the first rule of data processing?\n",
    "\n",
    "    A) YOU DO NOT TALK ABOUT DATA PROCESSING\n",
    "    B) 60% OF THE TIME, IT WORKS EVERY TIME\n",
    "    C) ALWAYS LOOK AT YOUR DATA"
   ]
  },
  {
   "cell_type": "markdown",
   "metadata": {
    "slideshow": {
     "slide_type": "slide"
    }
   },
   "source": [
    "# wrf-python"
   ]
  },
  {
   "cell_type": "markdown",
   "metadata": {
    "slideshow": {
     "slide_type": "subslide"
    }
   },
   "source": [
    "wrf-python provides functionality similar to what is found in the NCL-WRF package:\n",
    "\n",
    "- over 30 diagnostics calculations\n",
    "- several interpolation routines (horizontal level, vertical cross section, horizontal \"surface\"\n",
    "- plot helper utilities for cartopy, basemap, and PyNGL\n"
   ]
  },
  {
   "cell_type": "markdown",
   "metadata": {
    "slideshow": {
     "slide_type": "subslide"
    }
   },
   "source": [
    "The most commonly used functions:\n",
    "\n",
    "- **getvar**: Extracts variables and diagnostic variables\n",
    "- **interplevel**: Interpolates a variable to a horizontal plane at a specified level\n",
    "- **vertcross**: Interpolates a 3D variable to a vertical cross section\n",
    "- **vinterp**: Interpolates a variable to a new surface (e.g. theta-e)"
   ]
  },
  {
   "cell_type": "markdown",
   "metadata": {
    "slideshow": {
     "slide_type": "subslide"
    }
   },
   "source": [
    "## The *getvar* function\n",
    "\n",
    "The *getvar* function can be used to:\n",
    "\n",
    "- Extract NetCDF variables from a file, similar to netcdf4-python or PyNIO.\n",
    "- Compute diagnostic variables\n",
    "- Concatenate a variable (either NetCDF or diagnostic) across multiple files. \n",
    "\n"
   ]
  },
  {
   "cell_type": "markdown",
   "metadata": {
    "slideshow": {
     "slide_type": "subslide"
    }
   },
   "source": [
    "### Simple *getvar* Example for HGT\n",
    "\n",
    "``` python\n",
    "\n",
    "from netCDF4 import Dataset\n",
    "from wrf import getvar\n",
    "\n",
    "file_path = \"./wrfout_d01_2005-08-28_00:00:00\"\n",
    "\n",
    "wrf_file = Dataset(file_path)\n",
    "\n",
    "hgt = getvar(wrf_file, \"HGT\", timeidx=0)\n",
    "\n",
    "```"
   ]
  },
  {
   "cell_type": "markdown",
   "metadata": {
    "slideshow": {
     "slide_type": "subslide"
    }
   },
   "source": [
    "## Your Turn!"
   ]
  },
  {
   "cell_type": "code",
   "execution_count": null,
   "metadata": {},
   "outputs": [],
   "source": [
    "from netCDF4 import Dataset\n",
    "from wrf import getvar\n",
    "\n",
    "file_path = single_wrf_file()\n",
    "\n",
    "wrf_file = Dataset(file_path)\n",
    "\n",
    "hgt = getvar(wrf_file, \"HGT\", timeidx=0)\n",
    "\n",
    "print(hgt)"
   ]
  },
  {
   "cell_type": "markdown",
   "metadata": {
    "slideshow": {
     "slide_type": "subslide"
    }
   },
   "source": [
    "## Computing a Diagnostic Variable with *getvar*\n",
    "\n",
    "A list of available diagnostics is available at: http://wrf-python.readthedocs.io/en/latest/diagnostics.html"
   ]
  },
  {
   "cell_type": "markdown",
   "metadata": {},
   "source": [
    "In this example, we're going to compute sea level pressure.  Note the 'units' keyword argument.  Some diagnostics support several choices for units.  However, unit support is still relatively primitive.  \n",
    "\n",
    "``` python\n",
    "\n",
    "from netCDF4 import Dataset\n",
    "from wrf import getvar\n",
    "\n",
    "file_path = \"./wrfout_d01_2005-08-28_00:00:00\"\n",
    "\n",
    "wrf_file = Dataset(file_path)\n",
    "\n",
    "slp = getvar(wrf_file, \"slp\", \n",
    "             timeidx=0, units=\"hPa\")\n",
    "\n",
    "\n",
    "```"
   ]
  },
  {
   "cell_type": "markdown",
   "metadata": {
    "slideshow": {
     "slide_type": "subslide"
    }
   },
   "source": [
    "## Your Turn!\n",
    "\n",
    "Also try changing the units for by specifiying the following values:  'hPa', 'Pa', 'atm', 'mmhg'"
   ]
  },
  {
   "cell_type": "code",
   "execution_count": null,
   "metadata": {},
   "outputs": [],
   "source": [
    "from netCDF4 import Dataset\n",
    "from wrf import getvar\n",
    "\n",
    "file_path = single_wrf_file()\n",
    "\n",
    "wrf_file = Dataset(file_path)\n",
    "\n",
    "slp = getvar(wrf_file, \"slp\", timeidx=0, units=\"mmhg\")\n",
    "\n",
    "print (slp)"
   ]
  },
  {
   "cell_type": "markdown",
   "metadata": {
    "slideshow": {
     "slide_type": "subslide"
    }
   },
   "source": [
    "## Combining Across Mulitple Files\n",
    "\n",
    "wrf-python has two methods for combining a variable across multiple files\n",
    "\n",
    "- **cat** - combines the the variable along the Time dimension (Note: you must put the files in the order you want them)\n",
    "- **join** - creates a new left-most dimension for each file\n"
   ]
  },
  {
   "cell_type": "markdown",
   "metadata": {
    "slideshow": {
     "slide_type": "subslide"
    }
   },
   "source": [
    "To extract all times in to a single array, set *timeidx* to wrf.ALL_TIMES (an alias for None).  \n",
    "\n",
    "In this example, we're using the 'cat' method, which is the most common.\n",
    "\n",
    "``` python\n",
    "from netCDF4 import Dataset\n",
    "from wrf import getvar, ALL_TIMES\n",
    "\n",
    "file_paths = [\n",
    "     \"./wrfout_d01_2005-08-28_00:00:00\",\n",
    "     \"./wrfout_d01_2005-08-28_12:00:00\"\n",
    "     ]\n",
    "\n",
    "wrf_files = [Dataset(file_paths[0]),\n",
    "             Dataset(file_paths[1])]\n",
    "\n",
    "slp = getvar(wrf_files, \"slp\", \n",
    "             timeidx=ALL_TIMES,\n",
    "             method=\"cat\")\n",
    "\n",
    "```"
   ]
  },
  {
   "cell_type": "markdown",
   "metadata": {
    "slideshow": {
     "slide_type": "subslide"
    }
   },
   "source": [
    "## Your Turn!"
   ]
  },
  {
   "cell_type": "markdown",
   "metadata": {
    "slideshow": {
     "slide_type": "-"
    }
   },
   "source": [
    "### Example using the 'cat' method"
   ]
  },
  {
   "cell_type": "code",
   "execution_count": null,
   "metadata": {
    "scrolled": true
   },
   "outputs": [],
   "source": [
    "from netCDF4 import Dataset\n",
    "from wrf import getvar, ALL_TIMES\n",
    "\n",
    "file_paths = multiple_wrf_files()\n",
    "\n",
    "wrf_files = [Dataset(file_paths[0]),\n",
    "             Dataset(file_paths[1])]\n",
    "\n",
    "slp = getvar(wrf_files, \"slp\", timeidx=ALL_TIMES, method=\"cat\")\n",
    "\n",
    "print (slp)"
   ]
  },
  {
   "cell_type": "markdown",
   "metadata": {
    "slideshow": {
     "slide_type": "subslide"
    }
   },
   "source": [
    "### Example using the 'join' method"
   ]
  },
  {
   "cell_type": "code",
   "execution_count": null,
   "metadata": {},
   "outputs": [],
   "source": [
    "from netCDF4 import Dataset\n",
    "from wrf import getvar, ALL_TIMES\n",
    "\n",
    "file_paths = multiple_wrf_files()\n",
    "\n",
    "wrf_files = [Dataset(file_paths[0]),\n",
    "             Dataset(file_paths[1])]\n",
    "\n",
    "slp = getvar(wrf_files, \"slp\", timeidx=ALL_TIMES, method=\"join\")\n",
    "\n",
    "print (slp)"
   ]
  },
  {
   "cell_type": "markdown",
   "metadata": {
    "slideshow": {
     "slide_type": "subslide"
    }
   },
   "source": [
    "## Interpolation Routines\n",
    "\n",
    "- **interplevel** - linear interpolation to a horizontal plane at a specified height or pressure level\n",
    "- **vertcross** - vertical cross section interpolation to a vertical plane through two specified points \n",
    "  (or a pivot point and angle)\n",
    "- **vinterp** - interpolates to a \"surface\", which could be pressure levels or temperature levels like theta-e"
   ]
  },
  {
   "cell_type": "markdown",
   "metadata": {
    "slideshow": {
     "slide_type": "subslide"
    }
   },
   "source": [
    "### interplevel Example\n",
    " \n",
    "Let's get the 500 hPa heights in decameters\n",
    " \n",
    "``` python\n",
    " \n",
    "from netCDF4 import Dataset\n",
    "from wrf import getvar, interplevel\n",
    "\n",
    "file_path = \"./wrfout_d01_2005-08-28_00:00:00\"\n",
    "\n",
    "wrf_file = Dataset(file_path)\n",
    "\n",
    "pres = getvar(wrf_file, \"pressure\", timeidx=0)\n",
    "ht = getvar(wrf_file, \"z\", timeidx=0, units=\"dm\")\n",
    "\n",
    "ht_500 = interplevel(ht, pres, 500.0)\n",
    " \n",
    "```"
   ]
  },
  {
   "cell_type": "markdown",
   "metadata": {
    "collapsed": true,
    "slideshow": {
     "slide_type": "subslide"
    }
   },
   "source": [
    "## Your Turn!"
   ]
  },
  {
   "cell_type": "code",
   "execution_count": null,
   "metadata": {},
   "outputs": [],
   "source": [
    "from netCDF4 import Dataset\n",
    "from wrf import getvar, interplevel\n",
    "\n",
    "file_path = single_wrf_file()\n",
    "\n",
    "wrf_file = Dataset(file_path)\n",
    "\n",
    "pres = getvar(wrf_file, \"pressure\", timeidx=0)\n",
    "ht = getvar(wrf_file, \"z\", timeidx=0, units=\"dm\")\n",
    "\n",
    "ht_500 = interplevel(ht, pres, 500.0)\n",
    "\n",
    "print (ht_500)"
   ]
  },
  {
   "cell_type": "markdown",
   "metadata": {
    "slideshow": {
     "slide_type": "subslide"
    }
   },
   "source": [
    "### vertcross Example\n",
    "\n",
    "Vertical cross sections can be confusing to people.  The idea is to draw a horizontal line at the surface, and the cross section is defined as a vertical plane up from this line.\n",
    "\n",
    "- The new 'x-axis' in the cross section is the points along the line you made.  The line can be defined by:\n",
    "  1. defining a start point and an end point by using (x,y) grid coordinates or (latitude, longitude) coordinates.\n",
    "  2. defining a pivot point and an angle, which is useful for cross sections that will span most of the domain.\n",
    "- The new 'y-axis' will be a set of vertical levels chosen to be predefined levels, or you can choose them.  \n",
    "\n",
    "Also important to note that the horizontal line distance is discretized in to integer points, so the final point on the line may be slightly different than the end_point you have chosen.\n",
    "\n",
    "\n",
    "\n"
   ]
  },
  {
   "cell_type": "markdown",
   "metadata": {
    "slideshow": {
     "slide_type": "subslide"
    }
   },
   "source": [
    "This example introduces the *CoordPair* class.  A *CoordPair* is simply used to store (x,y) coordinates, or (lat,lon) coordinates.  It is also possible to have (x, y, lat, lon), but that's rarely used.  \n",
    "\n",
    "The *CoordPair* will be used to define your cross section line.\n",
    "\n",
    "``` python\n",
    "from wrf import CoordPair\n",
    "\n",
    "# Creating an x,y pair\n",
    "x_y_pair = CoordPair(x=10, y=20)\n",
    "\n",
    "# Creating a lat,lon pair\n",
    "lat_lon_pair = CoordPair(lat=30.0, lon=-120.0)\n",
    "\n",
    "```"
   ]
  },
  {
   "cell_type": "markdown",
   "metadata": {
    "slideshow": {
     "slide_type": "subslide"
    }
   },
   "source": [
    "In this example, we're going to define the cross section using a start point and and end point.  \n",
    "\n",
    "We're going to let the algorithm pick the levels, which are at ~1% increments."
   ]
  },
  {
   "cell_type": "markdown",
   "metadata": {
    "slideshow": {
     "slide_type": "subslide"
    }
   },
   "source": [
    "``` python\n",
    " \n",
    "from netCDF4 import Dataset\n",
    "from wrf import getvar, vertcross, CoordPair\n",
    "\n",
    "file_path = \"./wrfout_d01_2005-08-28_00:00:00\"\n",
    "wrf_file = Dataset(file_path)\n",
    "\n",
    "# Making a diagonal cross section line from \n",
    "# bottom left to top right.\n",
    "bottom_left = CoordPair(x=0, y=0)\n",
    "\n",
    "top_right = CoordPair(x=-1, y=-1)\n",
    "\n",
    "# Let's get wind speed in kts\n",
    "wspd_wdir = getvar(wrf_file, \"wspd_wdir\", \n",
    "                   timeidx=0, units=\"kt\")\n",
    "                   \n",
    "wspd = wspd_wdir[0,...]\n",
    "\n",
    "# Get the height levels\n",
    "ht = getvar(wrf_file, \"z\", timeidx=0)\n",
    "\n",
    "wspd_cross = vertcross(wspd, ht, \n",
    "               start_point=bottom_left, \n",
    "               end_point=top_right)\n",
    "               \n",
    "```"
   ]
  },
  {
   "cell_type": "markdown",
   "metadata": {
    "slideshow": {
     "slide_type": "subslide"
    }
   },
   "source": [
    "## Your Turn!"
   ]
  },
  {
   "cell_type": "code",
   "execution_count": null,
   "metadata": {},
   "outputs": [],
   "source": [
    "from netCDF4 import Dataset\n",
    "from wrf import getvar, vertcross, CoordPair\n",
    "\n",
    "file_path = \"./wrfout_d01_2005-08-28_00:00:00\"\n",
    "wrf_file = Dataset(file_path)\n",
    "\n",
    "# Making a diagonal cross section line from \n",
    "# bottom left to top right.\n",
    "bottom_left = CoordPair(x=0, y=0)\n",
    "\n",
    "top_right = CoordPair(x=-1, y=-1)\n",
    "\n",
    "# Let's get wind speed in kts\n",
    "wspd_wdir = getvar(wrf_file, \"wspd_wdir\", \n",
    "                   timeidx=0, units=\"kt\")\n",
    "                   \n",
    "wspd = wspd_wdir[0,...]\n",
    "\n",
    "# Get the height levels\n",
    "ht = getvar(wrf_file, \"z\", timeidx=0)\n",
    "\n",
    "wspd_cross = vertcross(wspd, ht, \n",
    "               start_point=bottom_left, \n",
    "               end_point=top_right)\n",
    "\n",
    "print (wspd_cross)\n"
   ]
  }
 ],
 "metadata": {
  "celltoolbar": "Slideshow",
  "kernelspec": {
   "display_name": "Python 2",
   "language": "python",
   "name": "python2"
  },
  "language_info": {
   "codemirror_mode": {
    "name": "ipython",
    "version": 2
   },
   "file_extension": ".py",
   "mimetype": "text/x-python",
   "name": "python",
   "nbconvert_exporter": "python",
   "pygments_lexer": "ipython2",
   "version": "2.7.13"
  },
  "livereveal": {
   "height": 768,
   "scroll": true,
   "start_slideshow_at": "selected",
   "transition": "zoom",
   "width": 1024
  }
 },
 "nbformat": 4,
 "nbformat_minor": 2
}
