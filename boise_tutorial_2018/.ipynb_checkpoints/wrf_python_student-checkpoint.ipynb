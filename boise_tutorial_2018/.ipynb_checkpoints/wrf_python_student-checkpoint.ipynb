{
 "cells": [
  {
   "cell_type": "markdown",
   "metadata": {},
   "source": [
    "# Welcome to the wrf-python Tutorial!"
   ]
  },
  {
   "cell_type": "markdown",
   "metadata": {},
   "source": [
    "# Jupyter Notebook Quick Reference\n",
    "\n",
    "**To execute a cell in jupyter notebook**:\n",
    "\n",
    "1. Click on the desired cell.\n",
    "2. Press **CTRL + RETURN** to execute the cell or press **SHIFT + RETURN** to execute the cell and advance to the next cell.\n",
    "3. Alternatively, you can use the Cell dropdown menu\n",
    "\n",
    "**If you accidentally double click on a Markdown Cell (cells with no code, only pretty text)**.\n",
    "\n",
    "You will usually see text, and most likely blue '#' characters and letters\n",
    "1. Simply execute the cell using the instructions above\n",
    "\n",
    "**If you experience a problem and want to restart your notebook**:\n",
    "\n",
    "1. Use the Kernel dropdown menu at the top.\n",
    "2. Execute Kernel -> Restart & Clear Output.\n",
    "3. Be sure the run **Example 1.1: Verifying your Jupyter Environment** before running any \n",
    "   other cells.\n",
    "\n",
    "\n",
    "**Shutting down the notebook**\n",
    "\n",
    "1. On your web browser, select the Home tab.\n",
    "2. Click the check box next to wrf_python_student.ipynb.\n",
    "3. Click the Shutdown button that will become available after step 2.\n",
    "4. Now go to the terminal window where you typed in \"jupyter notebook\".\n",
    "5. With the terminal window active, press **CTRL + C**.\n"
   ]
  },
  {
   "cell_type": "markdown",
   "metadata": {},
   "source": [
    "# 1.0 Introduction to jupyter, numpy, xarray"
   ]
  },
  {
   "cell_type": "markdown",
   "metadata": {},
   "source": [
    "## Example 1.1 Verifying your Jupyter Environment\n",
    "\n",
    "Looking at your own WRF data is much more fun than my examples!  If you have your own data files:\n",
    "\n",
    "1. Place the WRF output files in to a single directory.  Pick two or three files to limit memory.\n",
    "2. In the cell below, modify the **WRF_DIRECTORY** and **WRF_FILES** variables to point to your data.\n",
    "3. Execute the cell and verify that \"All Tests Passed!\" is printed.\n",
    "4. If not, raise your hand and one of the lab assistants will help.\n",
    "\n",
    "**IMPORTANT: If for some reason your workbook crashes, you need to run this cell again before running the later examples**."
   ]
  },
  {
   "cell_type": "code",
   "execution_count": null,
   "metadata": {},
   "outputs": [],
   "source": [
    "from __future__ import print_function\n",
    "\n",
    "# This jupyter notebook command inserts matplotlib graphics in \n",
    "# to the workbook\n",
    "%matplotlib inline\n",
    "\n",
    "# Modify these to point to your own files\n",
    "WRF_DIRECTORY = \"./\"\n",
    "WRF_FILES = [\"wrfout_d01_2005-08-28_00:00:00\",\n",
    "             \"wrfout_d01_2005-08-28_12:00:00\"]\n",
    "\n",
    "\n",
    "# Do not modify the code below this line\n",
    "#------------------------------------------------------\n",
    "# Make sure the environment is good\n",
    "import numpy\n",
    "import cartopy\n",
    "import matplotlib\n",
    "from netCDF4 import Dataset\n",
    "from xarray import DataArray\n",
    "from wrf import (getvar, interplevel, vertcross, \n",
    "                 vinterp, ALL_TIMES)\n",
    "import os\n",
    "\n",
    "_WRF_FILES = [os.path.abspath(os.path.expanduser(\n",
    "    os.path.join(WRF_DIRECTORY, f))) for f in WRF_FILES]\n",
    "\n",
    "# Check that the WRF files exist\n",
    "for f in _WRF_FILES:\n",
    "    if not os.path.exists(f):\n",
    "        raise ValueError(\"{} does not exist. \"\n",
    "            \"Check for typos or incorrect directory.\".format(full_path))\n",
    "\n",
    "# Create functions so that the WRF files only need\n",
    "# to be specified using the WRF_FILES global above\n",
    "def single_wrf_file():\n",
    "    global _WRF_FILES\n",
    "    return _WRF_FILES[0]\n",
    "\n",
    "def multiple_wrf_files():\n",
    "    global _WRF_FILES\n",
    "    return _WRF_FILES\n",
    "\n",
    "print (\"All tests passed!\")\n",
    "    \n"
   ]
  },
  {
   "cell_type": "markdown",
   "metadata": {},
   "source": [
    "# Numpy Way-Too-Quick Reference\n",
    "\n",
    "See https://docs.scipy.org/doc/numpy/user/quickstart.html for a much more complete introduction.\n",
    "\n",
    "## Creating an Array\n",
    "\n",
    "The zeros function creates an array with all 0's.  \n",
    "\n",
    "Begin by specifying the desired shape as a tuple and then specify the data type (\"float32\" is the default if not specified).\n",
    "\n",
    "``` python\n",
    "my_array = numpy.zeros((3,3,3), \"float32\")\n",
    "```\n",
    "\n",
    "## Accessing Elements\n",
    "\n",
    "Use the \"[ ]\" syntax with the desired dimension indexes separated by commas.\n",
    "\n",
    "``` python\n",
    "\n",
    "first_element = my_array[0,0,0]\n",
    "\n",
    "last_element = my_array[-1,-1,-1]\n",
    "\n",
    "mid_element = my_array[1,1,1]\n",
    "\n",
    "# Setting an element\n",
    "my_array[1,1,1] = 10.0\n",
    "\n",
    "```\n",
    "\n",
    "## Slices\n",
    "\n",
    "Use the 'start : end' syntax for slicing.  \n",
    "\n",
    "If *start* is left blank, the slice begins at the start of the array.  \n",
    "\n",
    "If *end* is blank, the slice ends at the end of the array.\n",
    "\n",
    "``` python\n",
    "import numpy\n",
    "\n",
    "my_array = numpy.zeros((3,3,3), \"float32\")\n",
    "\n",
    "first_row = my_array[0,0,:]\n",
    "\n",
    "first_column = my_array[0,:,0]\n",
    "\n",
    "first_z = my_array[:,0,0]\n",
    "\n",
    "subset = my_array[:, :, 1:3]\n",
    "\n",
    "```\n",
    "\n",
    "## MaskedArray\n",
    "\n",
    "Use the *masked_{condition}* functions to create MaskedArray objects.\n",
    "\n",
    "``` python\n",
    "\n",
    "import numpy\n",
    "import numpy.ma\n",
    "\n",
    "my_array = numpy.zeros((3,3,3), \"float32\")\n",
    "\n",
    "# Now all of the array elements are masked values\n",
    "my_masked = numpy.ma.masked_equal(my_array, 0)\n",
    "\n",
    "```\n"
   ]
  },
  {
   "cell_type": "markdown",
   "metadata": {},
   "source": [
    "## Example 1.2: Numpy Basics\n",
    "\n",
    "This example demonstrates the basics of creating a numpy array, getting and setting an array element, slicing, and masking values."
   ]
  },
  {
   "cell_type": "code",
   "execution_count": null,
   "metadata": {},
   "outputs": [],
   "source": [
    "import numpy\n",
    "import numpy.ma\n",
    "\n",
    "my_array = numpy.zeros((3,3,3), \"float32\")\n",
    "\n",
    "print (\"my_array\")\n",
    "print (my_array)\n",
    "print (\"\\n\")\n",
    "\n",
    "# Setting an element\n",
    "my_array[1,1,1] = 10.0\n",
    "\n",
    "# Getting an element\n",
    "mid = my_array[1,1,1]\n",
    "\n",
    "print (\"Mid element set\")\n",
    "print (my_array)\n",
    "print (\"\\n\")\n",
    "\n",
    "# Getting a slice\n",
    "my_slice = my_array[1,:,:]\n",
    "\n",
    "print (\"my_slice\")\n",
    "print (my_slice)\n",
    "print (\"\\n\")\n",
    "\n",
    "# Masking the zeros\n",
    "my_masked = numpy.ma.masked_equal(my_array, 0)\n",
    "\n",
    "print (\"my_masked\")\n",
    "print (my_masked)\n",
    "print (\"\\n\")"
   ]
  },
  {
   "cell_type": "markdown",
   "metadata": {},
   "source": [
    "# xarray Basic Way-Too-Quick Reference\n",
    "\n",
    "See http://xarray.pydata.org/ for a much more complete reference on xarray.\n",
    "\n",
    "## Creating an xarray DataArray\n",
    "\n",
    "\n",
    "Arguments for creating a DataArray are:\n",
    "\n",
    "- data [required]: A numpy array.\n",
    "- coords [optional]: A dictionary of {dimension_name : coordinate_array}.\n",
    "- dims [optional]: A list of dimension names from left to right.\n",
    "- name [optional]: A name for the variable.\n",
    "- attrs[optional]: A dictionary of {attr_name : attr_value}.\n",
    "\n",
    "``` python\n",
    "\n",
    "import numpy\n",
    "import xarray\n",
    "\n",
    "my_array = numpy.zeros((3,3,3), \"float32\")\n",
    "\n",
    "# Making up dimension names and coordinates.\n",
    "my_name = \"my_xarray\"\n",
    "\n",
    "my_dims = [\"bottom_top\", \"south_north\", \"west_east\"]\n",
    "\n",
    "my_coords = {\"bottom_top\" : [100., 200., 300.],\n",
    "          \"south_north\": [40., 50., 60.],\n",
    "          \"west_east\" : [-120., -110., -100.]\n",
    "         }\n",
    "\n",
    "my_attrs = {\"info\" : \"This is my xarray\"}\n",
    "\n",
    "my_xarray = xarray.DataArray(my_array,\n",
    "                           name=my_name,\n",
    "                           dims=my_dims, \n",
    "                           coords=my_coords, \n",
    "                           attrs=my_attrs)\n",
    "\n",
    "```\n",
    "\n",
    "## xarray Arrays with Missing Values\n",
    "\n",
    "- xarray always uses NaN for missing values.\n",
    "- This can cause problems with compiled math rouines.\n",
    "- The xarray.DataArray contains a .values property to get the numpy array, but this will not \n",
    "  replace the NaN values with the _FillValue values (see fillna and to_masked_array in xarray documentation).\n",
    "- wrf-python has a *to_np* function that will handle the conversion to numpy for you and fill in the missing values if _FillValue is in the attributes.\n",
    "\n",
    "## xarray Notes:\n",
    "\n",
    "- xarray DataArrays support most of the numpy methods and attributes, but not all.\n",
    "- xarray DataArrays are NOT numpy subclasses.  \n",
    "- Often you need to extract the numpy array from the DataArray before passing the array to \n",
    "  a computational routine.\n",
    "- However, the routines in wrf-python are xarray-aware and will do this for you."
   ]
  },
  {
   "cell_type": "markdown",
   "metadata": {},
   "source": [
    "## Example 1.3: Creating an xarray DataArray\n",
    "\n",
    "Run the cell below to see what an xarray DataArray looks like."
   ]
  },
  {
   "cell_type": "code",
   "execution_count": null,
   "metadata": {},
   "outputs": [],
   "source": [
    "import numpy\n",
    "import xarray\n",
    "\n",
    "my_array = numpy.zeros((3,3,3), \"float32\")\n",
    "\n",
    "# Making up dimension names and coordinates.\n",
    "my_name = \"my_xarray\"\n",
    "\n",
    "my_dims = [\"bottom_top\", \"south_north\", \"west_east\"]\n",
    "\n",
    "my_coords = {\"bottom_top\" : [100., 200., 300.],\n",
    "          \"south_north\": [40., 50., 60.],\n",
    "          \"west_east\" : [-120., -110., -100.]\n",
    "         }\n",
    "\n",
    "my_attrs = {\"info\" : \"This is my xarray\"}\n",
    "\n",
    "my_xarray = xarray.DataArray(my_array,\n",
    "                           name=my_name,\n",
    "                           dims=my_dims, \n",
    "                           coords=my_coords, \n",
    "                           attrs=my_attrs)\n",
    "\n",
    "print (my_xarray)"
   ]
  },
  {
   "cell_type": "markdown",
   "metadata": {},
   "source": [
    "## Example 1.4: xarray and Missing Values\n",
    "\n",
    "In this example, an xarray.DataArray is constructed from a MaskedArray.  \n",
    "\n",
    "Note how the missing values are all NaN.\n",
    "\n",
    "At the end, the wrf-python *to_np* routine is used to convert the DataArray back to a MaskedArray."
   ]
  },
  {
   "cell_type": "code",
   "execution_count": null,
   "metadata": {},
   "outputs": [],
   "source": [
    "import numpy\n",
    "import numpy.ma\n",
    "import xarray\n",
    "\n",
    "from wrf import to_np\n",
    "\n",
    "# Create a MaskedArray with 10.0 in the center\n",
    "my_array = numpy.zeros((3,3,3), \"float32\")\n",
    "\n",
    "my_array[1,1,1] = 10.0\n",
    "\n",
    "my_masked = numpy.ma.masked_equal(my_array, 0)\n",
    "\n",
    "# Making up dimension names and \n",
    "# coordinates.\n",
    "my_name = \"my_masked_xarray\"\n",
    "\n",
    "my_dims = [\"bottom_top\", \"south_north\", \"west_east\"]\n",
    "\n",
    "my_coords = {\"bottom_top\" : [100., 200., 300.],\n",
    "          \"south_north\": [40., 50., 60.],\n",
    "          \"west_east\" : [-120., -110., -100.]\n",
    "         }\n",
    "\n",
    "my_attrs = {\"info\" : \"This is my masked xarray\",\n",
    "           \"_FillValue\" : -999.0}\n",
    "\n",
    "# Create the xarray DataArray\n",
    "my_xarray = xarray.DataArray(my_masked,\n",
    "                           name=my_name,\n",
    "                           dims=my_dims, \n",
    "                           coords=my_coords, \n",
    "                           attrs=my_attrs)\n",
    "\n",
    "print (\"xarray Array with Missing Values\")\n",
    "print (my_xarray)\n",
    "print (\"\\n\")\n",
    "\n",
    "# Covert back to a MaskedArray\n",
    "converted = to_np(my_xarray)\n",
    "\n",
    "print (\"Converted to a MaskedArray with to_np\")\n",
    "print (converted)"
   ]
  },
  {
   "cell_type": "markdown",
   "metadata": {
    "collapsed": true
   },
   "source": [
    "# 2.0 Overview of WRF Data"
   ]
  },
  {
   "cell_type": "markdown",
   "metadata": {},
   "source": [
    "## Example 2.1: Running ncdump\n",
    "\n",
    "In this example, the ncdump command is called from inside of python.  \n",
    "\n",
    "Examine the output for your data. "
   ]
  },
  {
   "cell_type": "code",
   "execution_count": null,
   "metadata": {},
   "outputs": [],
   "source": [
    "from subprocess import Popen, PIPE, STDOUT\n",
    "\n",
    "file_path = single_wrf_file()\n",
    "\n",
    "# This simply executes 'ncdump -h {wrf_file}' \n",
    "# from Python\n",
    "p = Popen([\"ncdump\", \"-h\", \"{}\".format(file_path)], \n",
    "          stdout=PIPE, stderr=STDOUT)\n",
    "output, _ = p.communicate()\n",
    "\n",
    "print (output)"
   ]
  },
  {
   "cell_type": "markdown",
   "metadata": {
    "collapsed": true
   },
   "source": [
    "## Example 2.2: Using netcdf4-python\n",
    "\n",
    "In this example, the netcdf4-python package is used to read your WRF NetCDF file.  \n"
   ]
  },
  {
   "cell_type": "code",
   "execution_count": null,
   "metadata": {},
   "outputs": [],
   "source": [
    "from netCDF4 import Dataset\n",
    "\n",
    "file_path = single_wrf_file()\n",
    "\n",
    "wrf_file = Dataset(file_path)\n",
    "\n",
    "print(wrf_file)"
   ]
  },
  {
   "cell_type": "markdown",
   "metadata": {
    "collapsed": true
   },
   "source": [
    "## Example 2.3: Variables, Attributes, and Data with netcd4-python\n",
    "\n",
    "In this example, netcdf4-python is used to get the global attributes, get a variable (P), get the variable attributes (coordinates), and get the variable data."
   ]
  },
  {
   "cell_type": "code",
   "execution_count": null,
   "metadata": {},
   "outputs": [],
   "source": [
    "from netCDF4 import Dataset\n",
    "\n",
    "file_path = single_wrf_file()\n",
    "\n",
    "# Create the netCDF4.Dataset object\n",
    "wrf_file = Dataset(file_path)\n",
    "\n",
    "# Get the global attribute dict\n",
    "global_attrs = wrf_file.__dict__\n",
    "print (\"Global attributes for the file\")\n",
    "print(global_attrs)\n",
    "print (\"\\n\")\n",
    "\n",
    "# Just get the 'MAP_PROJ' attribute\n",
    "map_proj = wrf_file.getncattr(\"MAP_PROJ\")\n",
    "print (\"The MAP_PROJ attribute:\")\n",
    "print (map_proj)\n",
    "print(\"\\n\")\n",
    "\n",
    "# Get the perturbation pressure variable\n",
    "p = wrf_file.variables[\"P\"]\n",
    "print (\"The P variable: \")\n",
    "print(p)\n",
    "print (\"\\n\")\n",
    "\n",
    "# Get the P attributes\n",
    "p_attrs = p.__dict__\n",
    "print (\"The attribute dict for P\")\n",
    "print (p_attrs)\n",
    "print (\"\\n\")\n",
    "\n",
    "# Get the 'coordinates' attribute for P\n",
    "coords = p.getncattr(\"coordinates\")\n",
    "print (\"Coordinates for P:\")\n",
    "print (coords)\n",
    "print (\"\\n\")\n",
    "\n",
    "# Get the P numpy array for all times\n",
    "p_all_data = p[:]\n",
    "print (\"The P numpy array: \")\n",
    "print (p_all_data)\n",
    "print (\"\\n\")\n",
    "\n",
    "# Get the P numpy array for time 0\n",
    "p_t0_data = p[0,:]\n",
    "print (\"P array at time 0:\")\n",
    "print (p_t0_data)\n",
    "print (\"\\n\")"
   ]
  },
  {
   "cell_type": "markdown",
   "metadata": {
    "collapsed": true
   },
   "source": [
    "# 3.0 wrf-python"
   ]
  },
  {
   "cell_type": "markdown",
   "metadata": {},
   "source": [
    "## Example 3.1: Using *getvar* to Extract a WRF NetCDF Variable\n",
    "\n",
    "In this example, the *getvar* function is used to read a variable in a WRF NetCDF file."
   ]
  },
  {
   "cell_type": "code",
   "execution_count": null,
   "metadata": {},
   "outputs": [],
   "source": [
    "from netCDF4 import Dataset\n",
    "from wrf import getvar\n",
    "\n",
    "file_path = single_wrf_file()\n",
    "\n",
    "wrf_file = Dataset(file_path)\n",
    "\n",
    "hgt = getvar(wrf_file, \"HGT\", timeidx=0)\n",
    "\n",
    "print(hgt)"
   ]
  },
  {
   "cell_type": "markdown",
   "metadata": {
    "collapsed": true
   },
   "source": [
    "## Example 3.2: Using *getvar* to compte Sea Level Pressure (SLP)\n",
    "\n",
    "In this example, *getvar* is used to compute a diagnostic variable.\n",
    "\n",
    "The full table of avaiable diagnostics is here:  http://wrf-python.readthedocs.io/en/latest/diagnostics.html\n",
    "\n",
    "Also try changing the units for by specifiying the following values: 'hPa', 'Pa', 'atm', 'mmhg'"
   ]
  },
  {
   "cell_type": "code",
   "execution_count": null,
   "metadata": {},
   "outputs": [],
   "source": [
    "from netCDF4 import Dataset\n",
    "from wrf import getvar\n",
    "\n",
    "file_path = single_wrf_file()\n",
    "\n",
    "wrf_file = Dataset(file_path)\n",
    "\n",
    "slp = getvar(wrf_file, \"slp\", timeidx=0, units=\"mmhg\")\n",
    "\n",
    "print (slp)"
   ]
  },
  {
   "cell_type": "markdown",
   "metadata": {
    "collapsed": true
   },
   "source": [
    "## Example 3.3: Combining Files Using the 'cat' Method\n",
    "\n",
    "In this example, the variable is computed for all times, across all files, and combined along the Time dimension by using the 'cat' method"
   ]
  },
  {
   "cell_type": "code",
   "execution_count": null,
   "metadata": {},
   "outputs": [],
   "source": [
    "from netCDF4 import Dataset\n",
    "from wrf import getvar, ALL_TIMES\n",
    "\n",
    "file_paths = multiple_wrf_files()\n",
    "\n",
    "wrf_files = [Dataset(file_paths[0]),\n",
    "             Dataset(file_paths[1])]\n",
    "\n",
    "slp = getvar(wrf_files, \"slp\", timeidx=ALL_TIMES, method=\"cat\")\n",
    "\n",
    "print (slp)"
   ]
  },
  {
   "cell_type": "markdown",
   "metadata": {
    "collapsed": true
   },
   "source": [
    "## Example 3.4: Combining Files Using the 'join' Method\n",
    "\n",
    "In this example, the variable is computed for all times, across all files, and combined by creating a new leftmost index for the file by using the 'join' method."
   ]
  },
  {
   "cell_type": "code",
   "execution_count": null,
   "metadata": {},
   "outputs": [],
   "source": [
    "from netCDF4 import Dataset\n",
    "from wrf import getvar, ALL_TIMES\n",
    "\n",
    "file_paths = multiple_wrf_files()\n",
    "\n",
    "wrf_files = [Dataset(file_paths[0]),\n",
    "             Dataset(file_paths[1])]\n",
    "\n",
    "slp = getvar(wrf_files, \"slp\", timeidx=ALL_TIMES, method=\"join\")\n",
    "\n",
    "print (slp)"
   ]
  },
  {
   "cell_type": "markdown",
   "metadata": {
    "collapsed": true
   },
   "source": [
    "## Example 3.5: Interpolate to 500 hPa Using *interplevel*\n",
    "\n",
    "In this example, the 500 hPa geopotential heights are calculated by using the *interplevel* function."
   ]
  },
  {
   "cell_type": "code",
   "execution_count": null,
   "metadata": {},
   "outputs": [],
   "source": [
    "from netCDF4 import Dataset\n",
    "from wrf import getvar, interplevel\n",
    "\n",
    "file_path = single_wrf_file()\n",
    "\n",
    "wrf_file = Dataset(file_path)\n",
    "\n",
    "pres = getvar(wrf_file, \"pressure\", timeidx=0)\n",
    "ht = getvar(wrf_file, \"z\", timeidx=0, units=\"dm\")\n",
    "\n",
    "ht_500 = interplevel(ht, pres, 500.0)\n",
    "\n",
    "print (ht_500)"
   ]
  },
  {
   "cell_type": "markdown",
   "metadata": {
    "collapsed": true
   },
   "source": [
    "## Example 3.6: Interpolate to a Vertical Cross Section with *vertcross*\n",
    "\n",
    "In this example, the vertical cross section for wind speed is calculated using the *vertcross* function."
   ]
  },
  {
   "cell_type": "code",
   "execution_count": null,
   "metadata": {},
   "outputs": [],
   "source": [
    "from netCDF4 import Dataset\n",
    "from wrf import getvar, vertcross, CoordPair\n",
    "\n",
    "file_path = single_wrf_file()\n",
    "wrf_file = Dataset(file_path)\n",
    "\n",
    "# Making a diagonal cross section line from \n",
    "# bottom left to top right.\n",
    "bottom_left = CoordPair(x=0, y=0)\n",
    "\n",
    "top_right = CoordPair(x=-1, y=-1)\n",
    "\n",
    "# Let's get wind speed in kts\n",
    "wspd_wdir = getvar(wrf_file, \"wspd_wdir\", \n",
    "                   timeidx=0, units=\"kt\")\n",
    "                   \n",
    "wspd = wspd_wdir[0,:]\n",
    "\n",
    "# Get the height levels\n",
    "ht = getvar(wrf_file, \"z\", timeidx=0)\n",
    "\n",
    "wspd_cross = vertcross(wspd, ht, \n",
    "               start_point=bottom_left, \n",
    "               end_point=top_right)\n",
    "\n",
    "print (wspd_cross)"
   ]
  },
  {
   "cell_type": "markdown",
   "metadata": {
    "collapsed": true
   },
   "source": [
    "## Example 3.7: Interpolate to Theta-e Levels with *vinterp*\n",
    "\n",
    "In this example, pressure is interpolated to various theta-e levels by using the *vinterp* function."
   ]
  },
  {
   "cell_type": "code",
   "execution_count": null,
   "metadata": {},
   "outputs": [],
   "source": [
    "from netCDF4 import Dataset\n",
    "from wrf import getvar, vinterp \n",
    "\n",
    "file_path = \"./wrfout_d01_2005-08-28_00:00:00\"\n",
    "wrf_file = Dataset(file_path) \n",
    "\n",
    "pres = getvar(wrf_file, \"pressure\", timeidx=0)\n",
    "\n",
    "# Interpolate pressure to theta-e levels                 \n",
    "interp_levels = [280., 285., 290., 292., 294., \n",
    "                 296., 298., 300., 305., 310.]\n",
    "\n",
    "pres_eth = vinterp(wrf_file, \n",
    "               field=pres, \n",
    "               vert_coord=\"theta-e\", \n",
    "               interp_levels=interp_levels, \n",
    "               extrapolate=True, \n",
    "               field_type=\"pressure\", \n",
    "               log_p=False,\n",
    "               timeidx=0)\n",
    "\n",
    "print (pres_eth)"
   ]
  },
  {
   "cell_type": "markdown",
   "metadata": {
    "collapsed": true
   },
   "source": [
    "## Example 3.8: *xy_to_ll* and *ll_to_xy*\n",
    "\n",
    "In this example, several x,y coordinate values are converted to latitude,longitude values.  \n",
    "\n",
    "These latitude,longitude values are then converted back to x,y values."
   ]
  },
  {
   "cell_type": "code",
   "execution_count": null,
   "metadata": {},
   "outputs": [],
   "source": [
    "from netCDF4 import Dataset\n",
    "from wrf import getvar, xy_to_ll, ll_to_xy \n",
    "\n",
    "file_path = single_wrf_file()\n",
    "wrf_file = Dataset(file_path)\n",
    "\n",
    "lat_lon = xy_to_ll(wrf_file, [20, 30], [50,75])\n",
    "\n",
    "print (\"lat,lon values\")\n",
    "print (lat_lon)\n",
    "print (\"\\n\")\n",
    "\n",
    "x_y = ll_to_xy(wrf_file, lat_lon[0,:], lat_lon[1,:])\n",
    "\n",
    "print (\"x,y values\")\n",
    "print (x_y)\n"
   ]
  },
  {
   "cell_type": "markdown",
   "metadata": {
    "collapsed": true
   },
   "source": [
    "# 4.0 Plotting"
   ]
  },
  {
   "cell_type": "markdown",
   "metadata": {},
   "source": [
    "## Example 4.1: Single Wind Barb Example with pyplot\n",
    "\n",
    "In this example, a single wind barb is created in the center of the domain (by masking all other values).\n",
    "\n",
    "This simple example uses only the matplotlib.pyplot API."
   ]
  },
  {
   "cell_type": "code",
   "execution_count": null,
   "metadata": {},
   "outputs": [],
   "source": [
    "from matplotlib import pyplot\n",
    "import numpy as np\n",
    "\n",
    "# Make a 5x5 grid of missing u,v values\n",
    "u = np.ma.masked_equal(np.zeros((5,5)), 0)\n",
    "v = np.ma.masked_equal(np.zeros((5,5)), 0)\n",
    "\n",
    "# Add u,v winds to center of domain\n",
    "u[2,2] = 10.0\n",
    "v[2,2] = 10.0\n",
    "\n",
    "# Draw a single wind barb in the middle using pyplot API\n",
    "# Note:  the axes objects are \"hidden\" in these functions\n",
    "fig = pyplot.figure()\n",
    "pyplot.barbs(u, v)\n",
    "\n",
    "# Set the x and y ranges so the barb is in the middle\n",
    "pyplot.xlim(0, 4)\n",
    "pyplot.ylim(0, 4)\n",
    "\n",
    "pyplot.show()"
   ]
  },
  {
   "cell_type": "markdown",
   "metadata": {
    "collapsed": true
   },
   "source": [
    "## Example 4.2: Single Wind Barb Using the Axes Object\n",
    "\n",
    "This is the same example as before, but now the Axes objects are used directly, rather than the pure pyplot API.\n",
    "\n",
    "Often you'll use a mix of pyplot and the object API when working with matplotlib, especially when making panel plots."
   ]
  },
  {
   "cell_type": "code",
   "execution_count": null,
   "metadata": {},
   "outputs": [],
   "source": [
    "from matplotlib import pyplot\n",
    "import numpy as np\n",
    "\n",
    "# Make a 5x5 grid of missing u,v values\n",
    "u = np.ma.masked_equal(np.zeros((5,5)), 0)\n",
    "v = np.ma.masked_equal(np.zeros((5,5)), 0)\n",
    "\n",
    "# Add u,v winds to center of domain\n",
    "u[2,2] = 10.0\n",
    "v[2,2] = 10.0\n",
    "\n",
    "# We'll use pyplot to create the figure and \n",
    "# get the axes\n",
    "fig = pyplot.figure()\n",
    "ax = pyplot.axes() # <- Remember this line\n",
    "\n",
    "# Now use the axes directly to create the barbs\n",
    "ax.barbs(u, v)\n",
    "\n",
    "# Set the x and y ranges using the axes directly\n",
    "ax.set_xlim(0, 4)\n",
    "ax.set_ylim(0, 4)\n",
    "\n",
    "pyplot.show()"
   ]
  },
  {
   "cell_type": "markdown",
   "metadata": {
    "collapsed": true
   },
   "source": [
    "## Example 4.3: Making a Plot of Terrain\n",
    "\n",
    "In this example, terrain is plotted.  Plotting terrain is a good way of checking your data is mapped correctly."
   ]
  },
  {
   "cell_type": "code",
   "execution_count": null,
   "metadata": {},
   "outputs": [],
   "source": [
    "import numpy\n",
    "from matplotlib import pyplot\n",
    "from matplotlib.cm import get_cmap\n",
    "from cartopy import crs\n",
    "from cartopy.feature import NaturalEarthFeature\n",
    "from netCDF4 import Dataset\n",
    "from wrf import getvar, to_np, get_cartopy, latlon_coords\n",
    "\n",
    "file_path = single_wrf_file()\n",
    "wrf_file = Dataset(file_path)\n",
    "\n",
    "# Get the terrain height\n",
    "terrain = getvar(wrf_file, \"ter\", timeidx=0)\n",
    "\n",
    "# Get the cartopy object and the lat,lon coords\n",
    "cart_proj = get_cartopy(terrain)\n",
    "lats, lons = latlon_coords(terrain)\n",
    "\n",
    "# Create a figure and get the GetAxes object\n",
    "fig = pyplot.figure(figsize=(10, 7.5))\n",
    "geo_axes = pyplot.axes(projection=cart_proj)\n",
    "\n",
    "# Download and add the states and coastlines\n",
    "# See the cartopy documentation for more on this.\n",
    "states = NaturalEarthFeature(category='cultural', \n",
    "                             scale='50m', \n",
    "                             facecolor='none',\n",
    "                             name='admin_1_states_provinces_shp')\n",
    "geo_axes.add_feature(states, linewidth=.5)\n",
    "geo_axes.coastlines('50m', linewidth=0.8)\n",
    "\n",
    "# Set the contour levels\n",
    "levels = numpy.arange(250., 5000., 250.)\n",
    "\n",
    "# Make the contour lines and fill them.\n",
    "pyplot.contour(to_np(lons), to_np(lats), \n",
    "               to_np(terrain), levels=levels, \n",
    "               colors=\"black\",\n",
    "               transform=crs.PlateCarree())\n",
    "pyplot.contourf(to_np(lons), to_np(lats), \n",
    "                to_np(terrain), levels=levels,\n",
    "                transform=crs.PlateCarree(),\n",
    "                cmap=get_cmap(\"terrain\"))\n",
    "             \n",
    "# Add a color bar. The shrink often needs to be set \n",
    "# by trial and error.\n",
    "pyplot.colorbar(ax=geo_axes, shrink=.86)\n",
    "\n",
    "pyplot.show()"
   ]
  },
  {
   "cell_type": "markdown",
   "metadata": {
    "collapsed": true
   },
   "source": [
    "## Example 4.4: Plot of Sea Level Pressure\n",
    "\n",
    "In this example, sea level pressure is plotted.\n",
    "\n",
    "The following examples show how to crop this figure."
   ]
  },
  {
   "cell_type": "code",
   "execution_count": null,
   "metadata": {},
   "outputs": [],
   "source": [
    "import numpy\n",
    "from matplotlib import pyplot\n",
    "from matplotlib.cm import get_cmap\n",
    "from cartopy import crs\n",
    "from cartopy.feature import NaturalEarthFeature\n",
    "from netCDF4 import Dataset\n",
    "from wrf import getvar, to_np, get_cartopy, latlon_coords\n",
    "\n",
    "file_path = single_wrf_file()\n",
    "wrf_file = Dataset(file_path)\n",
    "\n",
    "# Get the terrain height\n",
    "slp = getvar(wrf_file, \"slp\", timeidx=0)\n",
    "\n",
    "# Get the cartopy object and the lat,lon coords\n",
    "cart_proj = get_cartopy(slp)\n",
    "lats, lons = latlon_coords(slp)\n",
    "\n",
    "# Create a figure and get the GetAxes object\n",
    "fig = pyplot.figure(figsize=(10, 7.5))\n",
    "geo_axes = pyplot.axes(projection=cart_proj)\n",
    "\n",
    "# Download and add the states and coastlines\n",
    "# See the cartopy documentation for more on this.\n",
    "states = NaturalEarthFeature(category='cultural', \n",
    "                             scale='50m', \n",
    "                             facecolor='none',\n",
    "                             name='admin_1_states_provinces_shp')\n",
    "geo_axes.add_feature(states, linewidth=.5)\n",
    "geo_axes.coastlines('50m', linewidth=0.8)\n",
    "\n",
    "# Set the contour levels so that all plots match\n",
    "levels = numpy.arange(980.,1030.,2.5)\n",
    "\n",
    "# Make the contour lines and fill them.\n",
    "pyplot.contour(to_np(lons), to_np(lats), \n",
    "               to_np(slp), levels=levels, colors=\"black\",\n",
    "               transform=crs.PlateCarree())\n",
    "pyplot.contourf(to_np(lons), to_np(lats), \n",
    "                to_np(slp), levels=levels, \n",
    "                transform=crs.PlateCarree(),\n",
    "                cmap=get_cmap(\"jet\"))\n",
    "             \n",
    "# Add a color bar. The shrink often needs to be set \n",
    "# by trial and error.\n",
    "pyplot.colorbar(ax=geo_axes, shrink=.86)\n",
    "\n",
    "pyplot.show()"
   ]
  },
  {
   "cell_type": "markdown",
   "metadata": {
    "collapsed": true
   },
   "source": [
    "## Example 4.5: Cropping by Slicing the Data\n",
    "\n",
    "In this example, the data is cropped to the lower right quadrant using slicing before plotting."
   ]
  },
  {
   "cell_type": "code",
   "execution_count": null,
   "metadata": {},
   "outputs": [],
   "source": [
    "import numpy\n",
    "from matplotlib import pyplot\n",
    "from matplotlib.cm import get_cmap\n",
    "from cartopy import crs\n",
    "from cartopy.feature import NaturalEarthFeature\n",
    "from netCDF4 import Dataset\n",
    "from wrf import getvar, to_np, get_cartopy, latlon_coords\n",
    "\n",
    "file_path = single_wrf_file()\n",
    "wrf_file = Dataset(file_path)\n",
    "\n",
    "# Get the terrain height\n",
    "slp = getvar(wrf_file, \"slp\", timeidx=0)\n",
    "\n",
    "# Determine the center of the domain in grid coordinates\n",
    "slp_shape = slp.shape\n",
    "center_y = int(slp_shape[-2]/2.) - 1\n",
    "center_x = int(slp_shape[-1]/2.) - 1\n",
    "\n",
    "# Slice from bottom to middle for y\n",
    "# Slice from middle to right for x\n",
    "slp_quad = slp[..., 0:center_y+1, center_x:]\n",
    "\n",
    "# Get the cartopy object and the lat,lon coords\n",
    "cart_proj = get_cartopy(slp_quad)\n",
    "lats, lons = latlon_coords(slp_quad)\n",
    "\n",
    "# Create a figure and get the GetAxes object\n",
    "fig = pyplot.figure(figsize=(10, 7.5))\n",
    "geo_axes = pyplot.axes(projection=cart_proj)\n",
    "\n",
    "# Download and add the states and coastlines\n",
    "# See the cartopy documentation for more on this.\n",
    "states = NaturalEarthFeature(category='cultural', \n",
    "                             scale='50m', \n",
    "                             facecolor='none',\n",
    "                             name='admin_1_states_provinces_shp')\n",
    "geo_axes.add_feature(states, linewidth=.5)\n",
    "geo_axes.coastlines('50m', linewidth=0.8)\n",
    "\n",
    "# Set the contour levels so that all plots match\n",
    "levels = numpy.arange(980.,1030.,2.5)\n",
    "\n",
    "# Make the contour lines and fill them.\n",
    "pyplot.contour(to_np(lons), to_np(lats), \n",
    "               to_np(slp_quad), levels=levels, colors=\"black\",\n",
    "               transform=crs.PlateCarree())\n",
    "pyplot.contourf(to_np(lons), to_np(lats), \n",
    "                to_np(slp_quad), levels=levels, \n",
    "                transform=crs.PlateCarree(),\n",
    "                cmap=get_cmap(\"jet\"))\n",
    "             \n",
    "# Add a color bar. The shrink often needs to be set \n",
    "# by trial and error.\n",
    "pyplot.colorbar(ax=geo_axes, shrink=.83)\n",
    "\n",
    "pyplot.show()"
   ]
  },
  {
   "cell_type": "markdown",
   "metadata": {
    "collapsed": true
   },
   "source": [
    "## Example 4.6: Cropping by Setting the X,Y Extents\n",
    "\n",
    "In this example, the plot is cropped to the lower right quardrant by setting x and y axis extents."
   ]
  },
  {
   "cell_type": "code",
   "execution_count": null,
   "metadata": {},
   "outputs": [],
   "source": [
    "import numpy\n",
    "from matplotlib import pyplot\n",
    "from matplotlib.cm import get_cmap\n",
    "from cartopy import crs\n",
    "from cartopy.feature import NaturalEarthFeature\n",
    "from netCDF4 import Dataset\n",
    "from wrf import getvar, to_np, get_cartopy, latlon_coords\n",
    "from wrf import xy_to_ll, cartopy_xlim, cartopy_ylim\n",
    "from wrf import CoordPair, GeoBounds\n",
    "\n",
    "file_path = single_wrf_file()\n",
    "wrf_file = Dataset(file_path)\n",
    "\n",
    "# Get the terrain height\n",
    "slp = getvar(wrf_file, \"slp\", timeidx=0)\n",
    "\n",
    "# Get the cartopy object and the lat,lon coords\n",
    "cart_proj = get_cartopy(slp)\n",
    "lats, lons = latlon_coords(slp)\n",
    "\n",
    "# Create a figure and get the GetAxes object\n",
    "fig = pyplot.figure(figsize=(10, 7.5))\n",
    "geo_axes = pyplot.axes(projection=cart_proj)\n",
    "\n",
    "# Download and add the states and coastlines\n",
    "# See the cartopy documentation for more on this.\n",
    "states = NaturalEarthFeature(category='cultural', \n",
    "                             scale='50m', \n",
    "                             facecolor='none',\n",
    "                             name='admin_1_states_provinces_shp')\n",
    "geo_axes.add_feature(states, linewidth=.5)\n",
    "geo_axes.coastlines('50m', linewidth=0.8)\n",
    "\n",
    "# Set the contour levels so that all plots match\n",
    "levels = numpy.arange(980.,1030.,2.5)\n",
    "\n",
    "# Make the contour lines and fill them.\n",
    "pyplot.contour(to_np(lons), to_np(lats), \n",
    "               to_np(slp), levels=levels, colors=\"black\",\n",
    "               transform=crs.PlateCarree())\n",
    "pyplot.contourf(to_np(lons), to_np(lats), \n",
    "                to_np(slp), levels=levels, \n",
    "                transform=crs.PlateCarree(),\n",
    "                cmap=get_cmap(\"jet\"))\n",
    "             \n",
    "# Add a color bar. The shrink often needs to be set \n",
    "# by trial and error.\n",
    "pyplot.colorbar(ax=geo_axes, shrink=.83)\n",
    "\n",
    "# Set up the x, y extents\n",
    "\n",
    "# Determine the center of the domain in grid coordinates\n",
    "slp_shape = slp.shape\n",
    "start_y = 0\n",
    "center_y = int(slp_shape[-2]/2.) - 1\n",
    "center_x = int(slp_shape[-1]/2.) - 1\n",
    "end_x = int(slp_shape[-1]) - 1\n",
    "\n",
    "# Get the lats and lons for the start, center, and end points\n",
    "# (Normally you would just set these yourself)\n",
    "center_latlon = xy_to_ll(wrf_file, \n",
    "                         [center_x, end_x], \n",
    "                         [start_y, center_y])\n",
    "\n",
    "start_lat = center_latlon[0,0]\n",
    "end_lat = center_latlon[0,1]\n",
    "start_lon = center_latlon[1,0]\n",
    "end_lon = center_latlon[1,1]\n",
    "\n",
    "# Set the extents\n",
    "geo_bounds = GeoBounds(CoordPair(lat=start_lat, lon=start_lon),\n",
    "                       CoordPair(lat=end_lat, lon=end_lon))\n",
    "geo_axes.set_xlim(cartopy_xlim(slp, geobounds=geo_bounds))\n",
    "geo_axes.set_ylim(cartopy_ylim(slp, geobounds=geo_bounds))\n",
    "\n",
    "pyplot.show()"
   ]
  },
  {
   "cell_type": "code",
   "execution_count": null,
   "metadata": {
    "collapsed": true
   },
   "outputs": [],
   "source": []
  },
  {
   "cell_type": "code",
   "execution_count": null,
   "metadata": {
    "collapsed": true
   },
   "outputs": [],
   "source": []
  }
 ],
 "metadata": {
  "kernelspec": {
   "display_name": "Python 2",
   "language": "python",
   "name": "python2"
  },
  "language_info": {
   "codemirror_mode": {
    "name": "ipython",
    "version": 2
   },
   "file_extension": ".py",
   "mimetype": "text/x-python",
   "name": "python",
   "nbconvert_exporter": "python",
   "pygments_lexer": "ipython2",
   "version": "2.7.13"
  }
 },
 "nbformat": 4,
 "nbformat_minor": 2
}
